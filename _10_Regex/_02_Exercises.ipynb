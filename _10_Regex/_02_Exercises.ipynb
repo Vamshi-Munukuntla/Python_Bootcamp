{
 "cells": [
  {
   "cell_type": "markdown",
   "id": "15c63649-b755-415f-af76-2e9e6354b31a",
   "metadata": {},
   "source": [
    "## Find Three Consecutive Digits"
   ]
  },
  {
   "cell_type": "code",
   "execution_count": 1,
   "id": "f18de3e2-b709-44fc-8653-d72ad5814ed0",
   "metadata": {},
   "outputs": [],
   "source": [
    "# Implement a function which takes a string as a parameter to find out whether there is three consecutive digits or not. \n",
    "# If there is three consecutive digits, the function will return first occurence otherwise 'Not found'.\n",
    "\n",
    "# Example\n",
    "\n",
    "# text = 'My phone number is: 234-456-8765'\n",
    "# find_three_con(text)\n",
    "# Output\n",
    "\n",
    "# 234"
   ]
  },
  {
   "cell_type": "code",
   "execution_count": 11,
   "id": "e59f2eea-2cdf-4f3b-9d69-b369edfa0f2a",
   "metadata": {},
   "outputs": [],
   "source": [
    "import re\n",
    "\n",
    "def find_three_con(p_text):\n",
    "    output = re.search('\\d\\d\\d',text)\n",
    "    if output == None:\n",
    "        print('Not found.')\n",
    "    else:\n",
    "        print(output.group())"
   ]
  },
  {
   "cell_type": "code",
   "execution_count": 12,
   "id": "989fc72a-21fa-41fd-b2b0-5a3932a28674",
   "metadata": {},
   "outputs": [
    {
     "name": "stdout",
     "output_type": "stream",
     "text": [
      "234\n"
     ]
    }
   ],
   "source": [
    "text = 'My phone number is: 234-456-8765'\n",
    "find_three_con(text)"
   ]
  },
  {
   "cell_type": "markdown",
   "id": "cd697c17-6ab8-43fa-a7b1-a13acd2d4af7",
   "metadata": {},
   "source": [
    "## Repetition EX1"
   ]
  },
  {
   "cell_type": "code",
   "execution_count": 40,
   "id": "3d10bbfe-42ba-430b-aa1f-5a67da1c2856",
   "metadata": {},
   "outputs": [],
   "source": [
    "def text_match(text):\n",
    "    regex = re.compile(r'AB*')\n",
    "    mo = regex.search(text)\n",
    "    if mo == None:\n",
    "        return ('Not Matched')\n",
    "    else:\n",
    "        return ('Matched')"
   ]
  },
  {
   "cell_type": "code",
   "execution_count": 41,
   "id": "1ff93564-9b21-4ee9-8dc2-9e6ea47ea1e2",
   "metadata": {},
   "outputs": [
    {
     "data": {
      "text/plain": [
       "'Matched'"
      ]
     },
     "execution_count": 41,
     "metadata": {},
     "output_type": "execute_result"
    }
   ],
   "source": [
    "text_match('A')"
   ]
  },
  {
   "cell_type": "code",
   "execution_count": 42,
   "id": "291aeec1-2dcf-4b0f-a378-60985c1a2bae",
   "metadata": {},
   "outputs": [
    {
     "data": {
      "text/plain": [
       "'Matched'"
      ]
     },
     "execution_count": 42,
     "metadata": {},
     "output_type": "execute_result"
    }
   ],
   "source": [
    "text_match('ABC')"
   ]
  },
  {
   "cell_type": "code",
   "execution_count": 43,
   "id": "992736b1-56a4-4c75-afa4-aa1121088849",
   "metadata": {},
   "outputs": [
    {
     "data": {
      "text/plain": [
       "'Matched'"
      ]
     },
     "execution_count": 43,
     "metadata": {},
     "output_type": "execute_result"
    }
   ],
   "source": [
    "text_match('ABBC')"
   ]
  },
  {
   "cell_type": "code",
   "execution_count": null,
   "id": "ef65c7b2-a13b-417f-bd5f-d05000d167d5",
   "metadata": {},
   "outputs": [],
   "source": []
  },
  {
   "cell_type": "markdown",
   "id": "0f53aeea-fd14-4e7d-ac72-19bd1d1b2773",
   "metadata": {},
   "source": [
    "## Repetition EX2"
   ]
  },
  {
   "cell_type": "code",
   "execution_count": 44,
   "id": "a5b88d41-56e6-4b7e-bb8a-84a440dfc44d",
   "metadata": {},
   "outputs": [],
   "source": [
    "import re"
   ]
  },
  {
   "cell_type": "code",
   "execution_count": 45,
   "id": "d9416129-3800-4f72-842b-e63fe7507ff8",
   "metadata": {},
   "outputs": [],
   "source": [
    "def text_match(text):\n",
    "    regex_pattern = re.compile(r'AB{2,3}')\n",
    "    mo = regex_pattern.search(text)\n",
    "    print(mo)\n",
    "    if mo == None:\n",
    "        return ('Not matched')\n",
    "    else:\n",
    "        return 'Matched'"
   ]
  },
  {
   "cell_type": "code",
   "execution_count": 46,
   "id": "4e8b8a78-d57c-4c42-84e0-7e3a56d2146d",
   "metadata": {},
   "outputs": [
    {
     "name": "stdout",
     "output_type": "stream",
     "text": [
      "None\n"
     ]
    },
    {
     "data": {
      "text/plain": [
       "'Not matched'"
      ]
     },
     "execution_count": 46,
     "metadata": {},
     "output_type": "execute_result"
    }
   ],
   "source": [
    "text_match('A')"
   ]
  },
  {
   "cell_type": "code",
   "execution_count": 47,
   "id": "418a48c2-620c-4435-b13b-163afd42c718",
   "metadata": {},
   "outputs": [
    {
     "name": "stdout",
     "output_type": "stream",
     "text": [
      "None\n"
     ]
    },
    {
     "data": {
      "text/plain": [
       "'Not matched'"
      ]
     },
     "execution_count": 47,
     "metadata": {},
     "output_type": "execute_result"
    }
   ],
   "source": [
    "text_match('ABC')"
   ]
  },
  {
   "cell_type": "code",
   "execution_count": 48,
   "id": "befc588c-9edb-4cb2-95b4-b1d8e985540d",
   "metadata": {},
   "outputs": [
    {
     "name": "stdout",
     "output_type": "stream",
     "text": [
      "<re.Match object; span=(0, 3), match='ABB'>\n"
     ]
    },
    {
     "data": {
      "text/plain": [
       "'Matched'"
      ]
     },
     "execution_count": 48,
     "metadata": {},
     "output_type": "execute_result"
    }
   ],
   "source": [
    "text_match('ABBC')"
   ]
  },
  {
   "cell_type": "code",
   "execution_count": 49,
   "id": "1f1b3264-9a91-470a-9434-be7c2d900f4b",
   "metadata": {},
   "outputs": [
    {
     "name": "stdout",
     "output_type": "stream",
     "text": [
      "<re.Match object; span=(0, 4), match='ABBB'>\n"
     ]
    },
    {
     "data": {
      "text/plain": [
       "'Matched'"
      ]
     },
     "execution_count": 49,
     "metadata": {},
     "output_type": "execute_result"
    }
   ],
   "source": [
    "text_match('ABBBC')"
   ]
  },
  {
   "cell_type": "code",
   "execution_count": 50,
   "id": "03a88972-df5d-4e21-9d1f-c10a5d934337",
   "metadata": {},
   "outputs": [
    {
     "name": "stdout",
     "output_type": "stream",
     "text": [
      "<re.Match object; span=(0, 4), match='ABBB'>\n"
     ]
    },
    {
     "data": {
      "text/plain": [
       "'Matched'"
      ]
     },
     "execution_count": 50,
     "metadata": {},
     "output_type": "execute_result"
    }
   ],
   "source": [
    "text_match('ABBBBBBC')"
   ]
  },
  {
   "cell_type": "code",
   "execution_count": null,
   "id": "bc0b00b9-c7ef-4350-9e91-342ca132721b",
   "metadata": {},
   "outputs": [],
   "source": []
  },
  {
   "cell_type": "markdown",
   "id": "faff2b27-69c6-4754-ac67-05adfb9e3d69",
   "metadata": {},
   "source": [
    "## Repetition EX3"
   ]
  },
  {
   "cell_type": "code",
   "execution_count": 91,
   "id": "a2c12e7f-a7cc-4cef-b362-9c2fad9a3055",
   "metadata": {},
   "outputs": [],
   "source": [
    "def text_match(text):\n",
    "    regex_pattern = re.compile((r'(L|l)ove(rs)?'))\n",
    "    mo_list = regex_pattern.findall(text)\n",
    "    return len(mo_list)"
   ]
  },
  {
   "cell_type": "code",
   "execution_count": 92,
   "id": "9c02814c-ca77-466d-b3b6-912e262078ee",
   "metadata": {},
   "outputs": [],
   "source": [
    "text = \"Lovers in love Lovers in love Love, love, love, love, love Love, love, love, love, love Love, love, love, love, love Love, love, love, love, love Lovers loving love just like these lovers are loving love in love Lovers loving love just like these lovers are loving love in love\""
   ]
  },
  {
   "cell_type": "code",
   "execution_count": 93,
   "id": "64995fef-fa50-4793-9cf4-f9277f9fe46e",
   "metadata": {},
   "outputs": [
    {
     "data": {
      "text/plain": [
       "34"
      ]
     },
     "execution_count": 93,
     "metadata": {},
     "output_type": "execute_result"
    }
   ],
   "source": [
    "text_match(text)"
   ]
  },
  {
   "cell_type": "markdown",
   "id": "af6680a8-32c3-4351-b30a-1089ab47f5a4",
   "metadata": {},
   "source": [
    "## Character Class EX1"
   ]
  },
  {
   "cell_type": "code",
   "execution_count": 96,
   "id": "bfff7b93-c1a4-4979-9b46-062f44a68253",
   "metadata": {},
   "outputs": [],
   "source": [
    "# Implement regular expression pattern which finds the numbers starting with 3.\n",
    "\n",
    "# Output\n",
    "\n",
    "# ['3.10', '3.10.1', '3.10,', '3.9.']"
   ]
  },
  {
   "cell_type": "code",
   "execution_count": 97,
   "id": "8a7dec50-1175-4dd4-878d-5bd3f37bf481",
   "metadata": {},
   "outputs": [],
   "source": [
    "text = \"\"\"\n",
    "What’s New In Python 3.10\n",
    "\n",
    "Release 3.10.1\n",
    "\n",
    "Date January 10, 2022\n",
    "\n",
    "Editor\n",
    "\n",
    "Pablo Galindo Salgado\n",
    "\n",
    "This article explains the new features in Python 3.10, compared to 3.9.\n",
    "\n",
    "\"\"\""
   ]
  },
  {
   "cell_type": "code",
   "execution_count": 104,
   "id": "49e4a160-fbaf-40bf-9a3d-59465bef1ad0",
   "metadata": {},
   "outputs": [
    {
     "name": "stdout",
     "output_type": "stream",
     "text": [
      "['3.10', '3.10.1', '3.10,', '3.9.']\n"
     ]
    }
   ],
   "source": [
    "regex = re.compile(r'3\\S\\w+\\S+')\n",
    "mo = regex.findall(text)\n",
    "print(mo)"
   ]
  },
  {
   "cell_type": "code",
   "execution_count": 105,
   "id": "95dd1a0e-71d3-491d-b354-f7aa19a621b9",
   "metadata": {},
   "outputs": [
    {
     "name": "stdout",
     "output_type": "stream",
     "text": [
      "['3.10', '3.10.1', '3.10,', '3.9.']\n"
     ]
    }
   ],
   "source": [
    "regex = re.compile(r'3\\S+')\n",
    "mo = regex.findall(text)\n",
    "print(mo)"
   ]
  },
  {
   "cell_type": "markdown",
   "id": "47f8e816-c7a8-4f5d-a194-905733a616f9",
   "metadata": {},
   "source": [
    "## Character Class EX2"
   ]
  },
  {
   "cell_type": "code",
   "execution_count": 106,
   "id": "e0c2af1c-fdae-4c14-9b5e-145e85655f42",
   "metadata": {},
   "outputs": [],
   "source": [
    "url = 'https://www.apmillers.com/news/daily/wp/2022/02/02/regular-expressions-patterns/'"
   ]
  },
  {
   "cell_type": "code",
   "execution_count": 108,
   "id": "f3167050-68f5-477b-94b6-dd13962cd798",
   "metadata": {},
   "outputs": [
    {
     "name": "stdout",
     "output_type": "stream",
     "text": [
      "https://www.apmillers.com/news/daily/wp/2022/02/02/regular-expressions-patterns/\n"
     ]
    }
   ],
   "source": [
    "print(url)"
   ]
  },
  {
   "cell_type": "code",
   "execution_count": 124,
   "id": "ab70f3d9-a1ed-469f-8bac-82b92a50c0c0",
   "metadata": {},
   "outputs": [
    {
     "name": "stdout",
     "output_type": "stream",
     "text": [
      "['2022', '02', '02']\n"
     ]
    }
   ],
   "source": [
    "regex = re.compile(r'(\\d+)')\n",
    "mo = regex.findall(url)\n",
    "print(mo)"
   ]
  },
  {
   "cell_type": "code",
   "execution_count": 154,
   "id": "be3f6863-7dec-4ab4-b22f-8417ace88fda",
   "metadata": {},
   "outputs": [],
   "source": [
    "def extract_date(url):\n",
    "    regex = re.compile(r\"(\\d+)/(\\d*)/(\\d){1,2}\")\n",
    "    mo = regex.findall(url)\n",
    "    return mo"
   ]
  },
  {
   "cell_type": "code",
   "execution_count": 155,
   "id": "326a21b8-e498-4fda-8968-adebb9684a1d",
   "metadata": {},
   "outputs": [
    {
     "data": {
      "text/plain": [
       "[('2022', '02', '2')]"
      ]
     },
     "execution_count": 155,
     "metadata": {},
     "output_type": "execute_result"
    }
   ],
   "source": [
    "extract_date(url)"
   ]
  },
  {
   "cell_type": "markdown",
   "id": "4f86d69b-82a1-487d-9380-af2d114cc1aa",
   "metadata": {},
   "source": [
    "## Character Class EX3"
   ]
  },
  {
   "cell_type": "code",
   "execution_count": 159,
   "id": "759c41cf-985e-4e7b-8318-c16e7230450c",
   "metadata": {},
   "outputs": [],
   "source": [
    "def check_char(text):\n",
    "    char_pattern = re.compile('[a-zA-Z0-9]')\n",
    "    mo = char_pattern.findall(text)\n",
    "    return mo"
   ]
  },
  {
   "cell_type": "code",
   "execution_count": 160,
   "id": "e148e90e-d78c-40fc-91fa-57e510bca8b3",
   "metadata": {},
   "outputs": [],
   "source": [
    "text = \"ABCDEFabef1250\""
   ]
  },
  {
   "cell_type": "code",
   "execution_count": 161,
   "id": "042114b3-8fcb-4ca9-b6c2-ffeed7b8e6be",
   "metadata": {},
   "outputs": [
    {
     "data": {
      "text/plain": [
       "['A', 'B', 'C', 'D', 'E', 'F', 'a', 'b', 'e', 'f', '1', '2', '5', '0']"
      ]
     },
     "execution_count": 161,
     "metadata": {},
     "output_type": "execute_result"
    }
   ],
   "source": [
    "check_char(text)"
   ]
  },
  {
   "cell_type": "code",
   "execution_count": 162,
   "id": "1acb3649-83f6-4261-ba04-7b1924ae3856",
   "metadata": {},
   "outputs": [
    {
     "data": {
      "text/plain": [
       "[]"
      ]
     },
     "execution_count": 162,
     "metadata": {},
     "output_type": "execute_result"
    }
   ],
   "source": [
    "check_char(\"*&%@#{\")"
   ]
  },
  {
   "cell_type": "markdown",
   "id": "daf29ec5-d302-4f6c-98d1-bca1098c8e29",
   "metadata": {},
   "source": [
    "## Character Class EX4"
   ]
  },
  {
   "cell_type": "code",
   "execution_count": 163,
   "id": "a78180f5-f8f2-42f4-9c0d-5d0a25e495c8",
   "metadata": {},
   "outputs": [],
   "source": [
    "text = \"\"\"The following example creates a list with 50 elements. \n",
    "All elements are then added to the list when the list is created.\n",
    "\"\"\""
   ]
  },
  {
   "cell_type": "code",
   "execution_count": 198,
   "id": "18724d7a-390a-4fdc-a16a-5f57dc9bdf59",
   "metadata": {},
   "outputs": [],
   "source": [
    "def start_ae(text):\n",
    "    text_pattern = re.compile(r\"a\\S+|e\\S+\")\n",
    "    mo = text_pattern.findall(text)\n",
    "    return mo"
   ]
  },
  {
   "cell_type": "code",
   "execution_count": 199,
   "id": "4d068a8f-c696-499f-8dbf-1b0dce0eacc3",
   "metadata": {},
   "outputs": [
    {
     "data": {
      "text/plain": [
       "['example',\n",
       " 'eates',\n",
       " 'elements.',\n",
       " 'elements',\n",
       " 'are',\n",
       " 'en',\n",
       " 'added',\n",
       " 'en',\n",
       " 'eated.']"
      ]
     },
     "execution_count": 199,
     "metadata": {},
     "output_type": "execute_result"
    }
   ],
   "source": [
    "start_ae(text)"
   ]
  },
  {
   "cell_type": "code",
   "execution_count": 206,
   "id": "148a246e-a7fb-437b-b603-963d24d47694",
   "metadata": {},
   "outputs": [],
   "source": [
    "def start_ae(text):\n",
    "    text_pattern = re.compile(r\"[ae]\\w+\")\n",
    "    mo = text_pattern.findall(text)\n",
    "    return mo"
   ]
  },
  {
   "cell_type": "code",
   "execution_count": 207,
   "id": "a5fe416f-088f-4ffb-ad16-91e9baa9bf12",
   "metadata": {},
   "outputs": [
    {
     "data": {
      "text/plain": [
       "['example',\n",
       " 'eates',\n",
       " 'elements',\n",
       " 'elements',\n",
       " 'are',\n",
       " 'en',\n",
       " 'added',\n",
       " 'en',\n",
       " 'eated']"
      ]
     },
     "execution_count": 207,
     "metadata": {},
     "output_type": "execute_result"
    }
   ],
   "source": [
    "start_ae(text)"
   ]
  },
  {
   "cell_type": "markdown",
   "id": "b945e1e5-1c62-409d-84e5-68ad19cdd052",
   "metadata": {},
   "source": [
    "## Character Class EX5"
   ]
  },
  {
   "cell_type": "code",
   "execution_count": 208,
   "id": "ea7cf10d-c02d-445d-928e-3cb6e241c60d",
   "metadata": {},
   "outputs": [],
   "source": [
    "html_text = \"\"\"\n",
    "\"<html>\n",
    "\n",
    "<head>\n",
    "\n",
    "<title>Page Title</title>\n",
    "\n",
    "</head>\n",
    "\n",
    "<body>\n",
    "\n",
    "<div class=\"tut-list tut-list-new tut-row \">\n",
    "\n",
    "<div class=\"tut-list-primary\"> <div class=\"tut-vote\">\n",
    "\n",
    "<video>intro</video>\n",
    "\n",
    "<span class=\"count\">50</span> <span class=\"tut-upvotes-text hidden\">Upvotes</span> </a> </div> \n",
    "\n",
    "<center>k=\"11\" rel=\"nofollow\"></center>\n",
    "\n",
    "<span class=\"tutorial-title-txt\">The Complete Data Structures and Algorithms Course in Python</span>\n",
    "\n",
    "<span class=\"tut-title-link\">  <span class=\"js-tutorial\" data-id=\"3529\"\n",
    "\n",
    "title=\"The Complete Data Structures and Algorithms Course in Python\" target=\"_blank\">(udemy.com)</span> \n",
    "\n",
    "</span>  </a></div> <div class=\"action-footer\">\n",
    "\n",
    "<form class=\"save-tutorial-form\" method=\"post\" <button></button> </form>\n",
    "\n",
    "</body>\n",
    "\n",
    "</html>\"\n",
    "\n",
    "\"\"\""
   ]
  },
  {
   "cell_type": "code",
   "execution_count": 276,
   "id": "dfb326af-48c6-45e3-984c-353bbcd74c8f",
   "metadata": {},
   "outputs": [],
   "source": [
    "def html_tag(html_text):\n",
    "    html_pattern = re.compile(r'[<>]([a-z]{5,})[/<>]')\n",
    "    mo = html_pattern.findall(html_text)\n",
    "    return mo"
   ]
  },
  {
   "cell_type": "code",
   "execution_count": 277,
   "id": "9ee0578e-1c50-4d41-95c8-37ac621b6fd6",
   "metadata": {},
   "outputs": [
    {
     "data": {
      "text/plain": [
       "['title', 'video', 'center', 'button']"
      ]
     },
     "execution_count": 277,
     "metadata": {},
     "output_type": "execute_result"
    }
   ],
   "source": [
    "html_tag(html_text)"
   ]
  },
  {
   "cell_type": "code",
   "execution_count": 278,
   "id": "a3cd4ed9-4b87-49e1-8d9f-3f43ab668c98",
   "metadata": {},
   "outputs": [
    {
     "data": {
      "text/plain": [
       "['title', 'video', 'center', 'button']"
      ]
     },
     "execution_count": 278,
     "metadata": {},
     "output_type": "execute_result"
    }
   ],
   "source": [
    "html_pattern = re.compile(r'</([a-z]{5,})>')\n",
    "mo = html_pattern.findall(html_text)\n",
    "mo"
   ]
  },
  {
   "cell_type": "code",
   "execution_count": null,
   "id": "c9b6d866-8ce8-4d40-8dd2-f435ff38a900",
   "metadata": {},
   "outputs": [],
   "source": []
  },
  {
   "cell_type": "markdown",
   "id": "64e19d68-c80a-4d9d-a75e-00913f2bab2c",
   "metadata": {},
   "source": [
    "## Regex Pattern EX6"
   ]
  },
  {
   "cell_type": "code",
   "execution_count": 305,
   "id": "c60ac17c-1370-46d8-838d-a928365a60f5",
   "metadata": {},
   "outputs": [],
   "source": [
    "def text_match(text):\n",
    "    capital_regex = re.compile('^[A-Z]+_[A-Z]+$')\n",
    "    mo = capital_regex.search(text)\n",
    "    if mo == None:\n",
    "        return 'Not Matched'\n",
    "    else:\n",
    "        return 'Matched'"
   ]
  },
  {
   "cell_type": "code",
   "execution_count": 306,
   "id": "9ec95daf-8510-47c9-9308-d6ca328e83b1",
   "metadata": {},
   "outputs": [
    {
     "data": {
      "text/plain": [
       "'Matched'"
      ]
     },
     "execution_count": 306,
     "metadata": {},
     "output_type": "execute_result"
    }
   ],
   "source": [
    "text_match('BB_CCAA')"
   ]
  },
  {
   "cell_type": "code",
   "execution_count": 307,
   "id": "8b81dcd0-ce49-4612-b136-18e180654f14",
   "metadata": {},
   "outputs": [
    {
     "data": {
      "text/plain": [
       "'Not Matched'"
      ]
     },
     "execution_count": 307,
     "metadata": {},
     "output_type": "execute_result"
    }
   ],
   "source": [
    "text_match(\"aabb_DDDEFF\")"
   ]
  },
  {
   "cell_type": "code",
   "execution_count": 308,
   "id": "25a965b1-15c6-4ffa-84a8-bae4f124770e",
   "metadata": {},
   "outputs": [
    {
     "data": {
      "text/plain": [
       "'Not Matched'"
      ]
     },
     "execution_count": 308,
     "metadata": {},
     "output_type": "execute_result"
    }
   ],
   "source": [
    "text_match(\"ADRGT_BCDEe\")"
   ]
  },
  {
   "cell_type": "markdown",
   "id": "2dce8dda-d496-439a-b403-0f87ad111050",
   "metadata": {},
   "source": [
    "## Regex Pattern EX7 "
   ]
  },
  {
   "cell_type": "code",
   "execution_count": 401,
   "id": "04eb19c1-6e86-409c-8a77-e731022d6446",
   "metadata": {},
   "outputs": [],
   "source": [
    "def text_match(text):\n",
    "    regex = re.compile(r'^c.+e$',re.I)\n",
    "    text_list = text.split()\n",
    "    result = []\n",
    "    for word in text_list:\n",
    "        mo = regex.findall(word)\n",
    "        result.extend(mo)\n",
    "    return result"
   ]
  },
  {
   "cell_type": "code",
   "execution_count": 402,
   "id": "63dfdae9-26e1-40ab-b039-c9af70395cc9",
   "metadata": {},
   "outputs": [],
   "source": [
    "text = 'I come to CTRE every year'"
   ]
  },
  {
   "cell_type": "code",
   "execution_count": 403,
   "id": "ba4bc5b8-7dad-4d26-814c-b848a9ffc7f7",
   "metadata": {},
   "outputs": [
    {
     "data": {
      "text/plain": [
       "['come', 'CTRE']"
      ]
     },
     "execution_count": 403,
     "metadata": {},
     "output_type": "execute_result"
    }
   ],
   "source": [
    "text_match(text)"
   ]
  },
  {
   "cell_type": "markdown",
   "id": "8c0678fc-4d07-40be-ae15-d9582150ba14",
   "metadata": {},
   "source": [
    "## Regex Pattern EX8"
   ]
  },
  {
   "cell_type": "code",
   "execution_count": 419,
   "id": "5acf960d-6ee4-4748-bf18-13be06338520",
   "metadata": {},
   "outputs": [],
   "source": [
    "text = \"\"\"From test@appmillers.com Wen Jan  5 09:14:16 2022\\n\n",
    "From info@appmillers.com Wen Jan  5 09:14:16 2022\\n\n",
    "From elshad@appmillers.com Wen Jan  5 \\n\n",
    "From redy@appmillers.com Wen Jan  5 \\n\n",
    "From info@appmillers.com Wen Jan  5 \"\"\""
   ]
  },
  {
   "cell_type": "code",
   "execution_count": 420,
   "id": "40e63d35-b1d8-4b26-8a42-d40d54d18488",
   "metadata": {},
   "outputs": [
    {
     "name": "stdout",
     "output_type": "stream",
     "text": [
      "['test@appmillers.com', 'info@appmillers.com', 'elshad@appmillers.com', 'redy@appmillers.com', 'info@appmillers.com']\n"
     ]
    }
   ],
   "source": [
    "text_list = text.split()\n",
    "regex = re.compile(r'(.*.com)$')\n",
    "result = []\n",
    "for word in text_list:\n",
    "    mo = regex.findall(word)\n",
    "    result.extend(mo)\n",
    "print(result)"
   ]
  },
  {
   "cell_type": "code",
   "execution_count": 421,
   "id": "ecdeefaa-3dce-4a7e-864a-a7c6dcf30c39",
   "metadata": {},
   "outputs": [
    {
     "name": "stdout",
     "output_type": "stream",
     "text": [
      "['test@appmillers.com', 'info@appmillers.com', 'elshad@appmillers.com', 'redy@appmillers.com', 'info@appmillers.com']\n"
     ]
    }
   ],
   "source": [
    "text_list = text.split()\n",
    "regex = re.compile(r'(\\w+@\\w+.com)$')\n",
    "result = []\n",
    "for word in text_list:\n",
    "    mo = regex.findall(word)\n",
    "    result.extend(mo)\n",
    "print(result)"
   ]
  },
  {
   "cell_type": "markdown",
   "id": "4d995974-e9cf-4f84-9dd9-057cb49b6be3",
   "metadata": {},
   "source": [
    "## Anchors"
   ]
  },
  {
   "cell_type": "code",
   "execution_count": 422,
   "id": "dd77559c-ddda-409e-85b9-211c81a919c7",
   "metadata": {},
   "outputs": [],
   "source": [
    "text = \"I like Python for Everyone course. It is the best one out there.\""
   ]
  },
  {
   "cell_type": "code",
   "execution_count": 447,
   "id": "ee2b36e3-36cf-418a-ab8a-1d8605e224aa",
   "metadata": {},
   "outputs": [
    {
     "data": {
      "text/plain": [
       "['like', 'for', 'the', 'best', 'one', 'out', 'there']"
      ]
     },
     "execution_count": 447,
     "metadata": {},
     "output_type": "execute_result"
    }
   ],
   "source": [
    "regex = re.compile(r'\\b\\w{3,5}\\b',re.I)\n",
    "mo = regex.findall(text)\n",
    "mo"
   ]
  },
  {
   "cell_type": "code",
   "execution_count": null,
   "id": "74443f8c-e43e-4c50-8058-fa6574fca2b7",
   "metadata": {},
   "outputs": [],
   "source": []
  },
  {
   "cell_type": "markdown",
   "id": "94a63a14-c51f-4aee-9a3e-7d689f58dd16",
   "metadata": {},
   "source": [
    "## is Decimal"
   ]
  },
  {
   "cell_type": "code",
   "execution_count": 502,
   "id": "accce051-040b-4246-9677-44e340ab7bd9",
   "metadata": {},
   "outputs": [],
   "source": [
    "def is_decimal(number):\n",
    "    regex = re.compile(r'^\\d+(.)\\d{1,2}$')\n",
    "    mo = regex.search(number)\n",
    "    if mo == None:\n",
    "        return False\n",
    "    else:\n",
    "        return True"
   ]
  },
  {
   "cell_type": "code",
   "execution_count": 507,
   "id": "1320623e-ffff-4083-9e41-641513f9c56a",
   "metadata": {},
   "outputs": [
    {
     "data": {
      "text/plain": [
       "True"
      ]
     },
     "execution_count": 507,
     "metadata": {},
     "output_type": "execute_result"
    }
   ],
   "source": [
    "is_decimal('123.0')"
   ]
  },
  {
   "cell_type": "code",
   "execution_count": 508,
   "id": "f24eeaad-ce0f-4d69-8ddd-b24812301282",
   "metadata": {},
   "outputs": [],
   "source": [
    "def is_decimal(number):\n",
    "    regex = re.compile(r'^\\d+(.)\\d{1,2}$')\n",
    "    mo = regex.search(number)\n",
    "    return bool(mo)"
   ]
  },
  {
   "cell_type": "code",
   "execution_count": 510,
   "id": "0ebed37b-01a2-4271-b085-0aea9774748f",
   "metadata": {},
   "outputs": [
    {
     "data": {
      "text/plain": [
       "True"
      ]
     },
     "execution_count": 510,
     "metadata": {},
     "output_type": "execute_result"
    }
   ],
   "source": [
    "is_decimal('123.11')"
   ]
  },
  {
   "cell_type": "code",
   "execution_count": 511,
   "id": "3c4e7902-1c79-47a0-9af8-7ef709c6d5bf",
   "metadata": {},
   "outputs": [
    {
     "data": {
      "text/plain": [
       "False"
      ]
     },
     "execution_count": 511,
     "metadata": {},
     "output_type": "execute_result"
    }
   ],
   "source": [
    "is_decimal('123.113')"
   ]
  },
  {
   "cell_type": "code",
   "execution_count": 512,
   "id": "d73359f0-f298-4593-bb9a-2ac6c8a597e7",
   "metadata": {},
   "outputs": [
    {
     "data": {
      "text/plain": [
       "True"
      ]
     },
     "execution_count": 512,
     "metadata": {},
     "output_type": "execute_result"
    }
   ],
   "source": [
    "is_decimal('123.1')"
   ]
  },
  {
   "cell_type": "code",
   "execution_count": null,
   "id": "fdf21e10-3384-47f1-91f4-c77f5b01c2b4",
   "metadata": {},
   "outputs": [],
   "source": []
  },
  {
   "cell_type": "code",
   "execution_count": 4,
   "id": "9e038660-46fd-4a64-86f1-c8936ce0e266",
   "metadata": {},
   "outputs": [],
   "source": [
    "text = \"\"\"\n",
    "HackerRank is more than just a company\n",
    "    We are a tight group of hackers, bootstrappers, entrepreneurial thinkers and innovators. We are building an engaged community of problem solvers. Imagine the intelligence and value that a room would hold if it contained hackers/problem solvers from around the world? We're building this online.\n",
    "Hypothesis: Every hacker loves a particular type of challenge presented in a certain set of difficulty. If we build a large collection of real world challenges in different domains with an engaging interface, it is going to be incredible! Join us to create history.\n",
    "Available Positions\n",
    "Product Hacker product@hackerrank.com\n",
    "Challenge Curator\n",
    "Product Evangelist\n",
    "Product Designer\n",
    "Content Creator\n",
    "ACM World Finals Hacker\n",
    "Backend C++ Hacker\n",
    "Mail us at hackers@hackerrank.com to chat more. Or you can write to us at interviewstreet@hackerrank.com!\n",
    "HACKERRANK PERKS\n",
    "Working for a startup is hard work, but there are plenty of benefits of working for a small, fun, growing team.\n",
    "[Image] Perk: Get tools for the jobAll the Right ToolsWe know that everyone's perfect workspace is unique to them. We will get you set up with whatever equipment you need to start hacking - a new 15” Macbook Pro or iMac, or a computer of your choice plus a display if you need it. Additionally, if you require any software or other tools, we've got it covered.[Image] Perk: Flexible HoursFlexible HoursBecause we work so hard, we encourage our employees to keep flexible hours and don't require them to track their time. A morning scrum and open communication ensures that the job gets done on time, and we rely on the honor system so that you can work on your own pace.[Image] Perk: HealthcareWellness SupportTo work hard, you have to be healthy. We will cover your health, dental, and visual insurance with no wait period. That means instant benefits from the day you're hired.[Image] Perk: Choice of LocationLocation, Location, LocationWe are the first Indian company to be backed by Y-Combinator, and as a result we have a thriving office in Bangalore and a growing office in Mountain View, CA. Depending on your residency or visa status, we will get you situated in one of our two offices, both of which are located in the heart of their country's tech industry.[Image] Perk: Choice of LocationCreative SupportIf you have a cool side project that you want to launch, we will pay for EC2/heroku servers to get it off the ground. Side projects fuel creativity and learning, which are crucial to the HackerRank culture.\n",
    "CULTURE\n",
    "The culture of a startup is reflective of the founders’ DNA. Larry Page & Sergey Brin were PhD’s from Stanford and that’s why Google is filled with high scoring graders from top schools and is very hard to get in if you’re not a CS major. Similarly, the hacker culture at Facebook is inspired by Zuckerberg, a hacker, the design culture by Steve Jobs and so on.\n",
    "The adjective to describe the environment/founders here is relentless hardworkers. It might be a general trait of a startup but I’m pretty sure it’s a notch higher here and defines the culture. This is what has taken us this far. It’s not working in weekends or allnighters that count, but the effort that goes into building something intellectually engaging for hackers and making it fun is high.\n",
    "You’ll have to embrace randomness and chaos. There’s some level of discipline (eg: daily scrums) but only so much. We push boundaries everyday, stretch our limits but no one complains because there’s a feeling of doing something great at the end of the day, every single day.\n",
    "\"\"\""
   ]
  },
  {
   "cell_type": "code",
   "execution_count": 5,
   "id": "69c14e0c-12d8-46c4-8aa8-24bb37df7a95",
   "metadata": {},
   "outputs": [],
   "source": [
    "# hackers@hackerrank.com;interviewstreet@hackerrank.com;product@hackerrank.com"
   ]
  },
  {
   "cell_type": "code",
   "execution_count": 6,
   "id": "19eb573f-a10d-4d1a-ba97-61b05b8e23ea",
   "metadata": {},
   "outputs": [],
   "source": [
    "import re"
   ]
  },
  {
   "cell_type": "code",
   "execution_count": 11,
   "id": "a9b7b64c-30a4-4fa3-9426-340821c7aa5e",
   "metadata": {},
   "outputs": [
    {
     "name": "stdout",
     "output_type": "stream",
     "text": [
      "['product@hackerrank.com', 'hackers@hackerrank.com', 'interviewstreet@hackerrank.com']\n"
     ]
    }
   ],
   "source": [
    "regex = re.compile('\\w+@\\w+.com')\n",
    "mo = regex.findall(text)\n",
    "print(mo)\n",
    "ans = ';'.join(mo)"
   ]
  },
  {
   "cell_type": "code",
   "execution_count": null,
   "id": "e638294a-f3db-44c2-9c8b-c6a67c09a4e4",
   "metadata": {},
   "outputs": [],
   "source": []
  },
  {
   "cell_type": "markdown",
   "id": "b5cd7640-bced-456e-88c3-bd58ca9b2a79",
   "metadata": {},
   "source": [
    "## Regex Substitution EX1"
   ]
  },
  {
   "cell_type": "code",
   "execution_count": null,
   "id": "834adfb8-30da-41d9-84ec-8583ba6c0da8",
   "metadata": {},
   "outputs": [],
   "source": [
    "# remove_zero(\"211.07.095.122\")"
   ]
  },
  {
   "cell_type": "code",
   "execution_count": 21,
   "id": "7b39e016-0343-4b68-9198-9f86b672e7e2",
   "metadata": {},
   "outputs": [],
   "source": [
    "def remove_zero(ip):\n",
    "    output = re.sub('\\.[0]*', '.',ip)\n",
    "    return output"
   ]
  },
  {
   "cell_type": "code",
   "execution_count": 24,
   "id": "f6202c21-ded2-411f-9c74-dbaa0ec7866c",
   "metadata": {},
   "outputs": [],
   "source": [
    "custom_string = \"211.00007.095.122\""
   ]
  },
  {
   "cell_type": "code",
   "execution_count": 25,
   "id": "710b667c-190f-45ce-8e89-f3af145ad00b",
   "metadata": {},
   "outputs": [
    {
     "data": {
      "text/plain": [
       "'211.7.95.122'"
      ]
     },
     "execution_count": 25,
     "metadata": {},
     "output_type": "execute_result"
    }
   ],
   "source": [
    "remove_zero(custom_string)"
   ]
  },
  {
   "cell_type": "code",
   "execution_count": null,
   "id": "f6cd6f5f-8b2d-4c41-80de-5c8ab095c972",
   "metadata": {},
   "outputs": [],
   "source": []
  },
  {
   "cell_type": "code",
   "execution_count": null,
   "id": "fa3e21d9-e7db-4242-b8d9-f37004050c52",
   "metadata": {},
   "outputs": [],
   "source": []
  },
  {
   "cell_type": "code",
   "execution_count": null,
   "id": "2dc7a071-d705-4724-927b-51724be046fa",
   "metadata": {},
   "outputs": [],
   "source": []
  },
  {
   "cell_type": "code",
   "execution_count": null,
   "id": "1813f8bd-d8d1-490f-89f1-5562c23610b0",
   "metadata": {},
   "outputs": [],
   "source": []
  },
  {
   "cell_type": "code",
   "execution_count": null,
   "id": "73ac635f-890b-4229-b6d0-e6607cb64b0a",
   "metadata": {},
   "outputs": [],
   "source": []
  },
  {
   "cell_type": "code",
   "execution_count": null,
   "id": "9bbd8cd3-ad60-4360-a4e7-1755fd104b73",
   "metadata": {},
   "outputs": [],
   "source": []
  }
 ],
 "metadata": {
  "kernelspec": {
   "display_name": "Python 3 (ipykernel)",
   "language": "python",
   "name": "python3"
  },
  "language_info": {
   "codemirror_mode": {
    "name": "ipython",
    "version": 3
   },
   "file_extension": ".py",
   "mimetype": "text/x-python",
   "name": "python",
   "nbconvert_exporter": "python",
   "pygments_lexer": "ipython3",
   "version": "3.9.13"
  }
 },
 "nbformat": 4,
 "nbformat_minor": 5
}
