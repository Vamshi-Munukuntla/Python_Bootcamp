{
 "cells": [
  {
   "cell_type": "markdown",
   "id": "173ec061-0c86-4ada-bffd-b40fb58e1ecc",
   "metadata": {},
   "source": [
    "# Bill Roulette"
   ]
  },
  {
   "cell_type": "code",
   "execution_count": 30,
   "id": "231bf3b8-2012-4b1b-b3e8-3c922e3bb18f",
   "metadata": {},
   "outputs": [
    {
     "name": "stdin",
     "output_type": "stream",
     "text": [
      "Enter a Name : Elshad\n",
      "Enter a Name : Edy\n",
      "Enter a Name : Redy\n",
      "Enter a Name : John\n",
      "Enter a Name : Jenny\n",
      "Enter a Name : done\n"
     ]
    },
    {
     "name": "stdout",
     "output_type": "stream",
     "text": [
      "Redy is going to pay for the meal today.\n"
     ]
    }
   ],
   "source": [
    "names = list()\n",
    "while True:\n",
    "    name = input('Enter a Name :')\n",
    "    if name == 'done':\n",
    "        break\n",
    "    names.append(name)\n",
    "import random\n",
    "payer = random.choice(names)\n",
    "print(f'{payer} is going to pay for the meal today.')"
   ]
  },
  {
   "cell_type": "code",
   "execution_count": null,
   "id": "402e1873-7fd1-4423-b57d-dc5662d5f46f",
   "metadata": {},
   "outputs": [],
   "source": []
  },
  {
   "cell_type": "markdown",
   "id": "45bcf031-5d75-49a5-8d4b-b44ef26b6e07",
   "metadata": {},
   "source": [
    "# Find the Golden Star"
   ]
  },
  {
   "cell_type": "code",
   "execution_count": 47,
   "id": "65b5d67d-3e12-48af-81ad-83dce0ab3c7e",
   "metadata": {},
   "outputs": [],
   "source": [
    "import random"
   ]
  },
  {
   "cell_type": "code",
   "execution_count": 55,
   "id": "b34f464e-9b98-481a-a871-36e02e535475",
   "metadata": {},
   "outputs": [],
   "source": [
    "map1 = [['⬜️', '⬜️', '⬜️'],['⬜️', '⬜️', '⬜️'],['⬜️', '⬜️', '⬜️']]"
   ]
  },
  {
   "cell_type": "code",
   "execution_count": 56,
   "id": "234ce83d-36b6-4114-83e0-88c8fce01809",
   "metadata": {},
   "outputs": [],
   "source": [
    "def print_map(p_map):\n",
    "    print('\\n'.join([' '.join(['{:2}'.format(item)for item in row])\n",
    "                     for row in p_map]))"
   ]
  },
  {
   "cell_type": "code",
   "execution_count": 57,
   "id": "10a6eae7-5458-4365-adef-f79ccb764219",
   "metadata": {},
   "outputs": [
    {
     "name": "stdout",
     "output_type": "stream",
     "text": [
      "This is our initial map...\n",
      "⬜️ ⬜️ ⬜️\n",
      "⬜️ ⬜️ ⬜️\n",
      "⬜️ ⬜️ ⬜️\n"
     ]
    }
   ],
   "source": [
    "print('This is our initial map...')\n",
    "print_map(map1)"
   ]
  },
  {
   "cell_type": "code",
   "execution_count": 86,
   "id": "c1364f6b-c377-4433-aa36-812f72c37dbd",
   "metadata": {},
   "outputs": [
    {
     "name": "stdout",
     "output_type": "stream",
     "text": [
      "⬜️ ⬜️ * \n",
      "⬜️ ⬜️ ⬜️\n",
      "⬜️ ⬜️ ⬜️\n"
     ]
    }
   ],
   "source": [
    "map1 = [['⬜️', '⬜️', '⬜️'],['⬜️', '⬜️', '⬜️'],['⬜️', '⬜️', '⬜️']]\n",
    "gold_horizontal = random.randint(0,2)\n",
    "gold_vertical   = random.randint(0,2)\n",
    "map1[gold_horizontal][gold_ve0rtical] = '*'\n",
    "print_map(map1)"
   ]
  },
  {
   "cell_type": "code",
   "execution_count": 87,
   "id": "511a80d8-cedb-47a9-8bc2-1900b9323d75",
   "metadata": {},
   "outputs": [],
   "source": [
    "gold_position = str(gold_horizontal+1) + str(gold_vertical+1)"
   ]
  },
  {
   "cell_type": "code",
   "execution_count": 88,
   "id": "f3efc380-ad2d-42ef-9917-fff389604e5d",
   "metadata": {},
   "outputs": [
    {
     "name": "stdin",
     "output_type": "stream",
     "text": [
      "What do you think: where is the Golden Star in the map? 21\n"
     ]
    }
   ],
   "source": [
    "position = input('What do you think: where is the Golden Star in the map?')"
   ]
  },
  {
   "cell_type": "code",
   "execution_count": 89,
   "id": "1f338f14-f17f-41be-8cdf-7aa1cf2bc555",
   "metadata": {},
   "outputs": [
    {
     "name": "stdout",
     "output_type": "stream",
     "text": [
      "Unfortunately you couldn't it!\n"
     ]
    }
   ],
   "source": [
    "if gold_position == position:\n",
    "    print('Congratulations!!! You have found the Golden STAR!')\n",
    "else:\n",
    "    horizontal = int(position[0])\n",
    "    vertical   = int(position[1])\n",
    "    map1[horizontal-1][vertical-1] = 'X'\n",
    "    print(\"Unfortunately you couldn't it!\")"
   ]
  },
  {
   "cell_type": "code",
   "execution_count": 90,
   "id": "6955c52c-ddfd-477d-9eb4-e5e409e167b3",
   "metadata": {},
   "outputs": [
    {
     "name": "stdout",
     "output_type": "stream",
     "text": [
      "⬜️ ⬜️ * \n",
      "X  ⬜️ ⬜️\n",
      "⬜️ ⬜️ ⬜️\n"
     ]
    }
   ],
   "source": [
    "print_map(map1)"
   ]
  },
  {
   "cell_type": "code",
   "execution_count": null,
   "id": "6ac76561-7ba3-476d-941f-b621330b41a8",
   "metadata": {},
   "outputs": [],
   "source": []
  },
  {
   "cell_type": "code",
   "execution_count": null,
   "id": "eae0c2bb-d8bf-4ffc-a686-3017d60e5b5a",
   "metadata": {},
   "outputs": [],
   "source": []
  },
  {
   "cell_type": "code",
   "execution_count": null,
   "id": "a4c3b4fe-a959-4e5c-8133-82829e4f3125",
   "metadata": {},
   "outputs": [],
   "source": []
  },
  {
   "cell_type": "code",
   "execution_count": null,
   "id": "7a5d96f8-45a3-4e33-baab-dfd538260873",
   "metadata": {},
   "outputs": [],
   "source": []
  },
  {
   "cell_type": "code",
   "execution_count": null,
   "id": "8eb10016-487a-4d4c-adb1-01fc6fe87b7a",
   "metadata": {},
   "outputs": [],
   "source": []
  },
  {
   "cell_type": "code",
   "execution_count": null,
   "id": "9dd4c068-03c4-4df9-98a0-b66a25b6dfa9",
   "metadata": {},
   "outputs": [],
   "source": []
  },
  {
   "cell_type": "code",
   "execution_count": null,
   "id": "414b733f-4c25-4686-9769-2dae5631aeef",
   "metadata": {},
   "outputs": [],
   "source": []
  },
  {
   "cell_type": "code",
   "execution_count": null,
   "id": "10d4a637-2122-4ed7-9229-94e038a758d9",
   "metadata": {},
   "outputs": [],
   "source": []
  },
  {
   "cell_type": "code",
   "execution_count": null,
   "id": "3da2132a-d525-4ff5-9071-521a7fd73787",
   "metadata": {},
   "outputs": [],
   "source": []
  },
  {
   "cell_type": "code",
   "execution_count": null,
   "id": "3a341099-4080-4ede-a65d-457d72aaac66",
   "metadata": {},
   "outputs": [],
   "source": []
  }
 ],
 "metadata": {
  "kernelspec": {
   "display_name": "Python 3 (ipykernel)",
   "language": "python",
   "name": "python3"
  },
  "language_info": {
   "codemirror_mode": {
    "name": "ipython",
    "version": 3
   },
   "file_extension": ".py",
   "mimetype": "text/x-python",
   "name": "python",
   "nbconvert_exporter": "python",
   "pygments_lexer": "ipython3",
   "version": "3.9.13"
  }
 },
 "nbformat": 4,
 "nbformat_minor": 5
}
