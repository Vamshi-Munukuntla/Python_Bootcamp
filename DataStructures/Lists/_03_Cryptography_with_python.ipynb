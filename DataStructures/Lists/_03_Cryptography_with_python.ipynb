{
 "cells": [
  {
   "cell_type": "code",
   "execution_count": 1,
   "id": "9d71d691-be49-4522-a70a-b1f48ff1c25d",
   "metadata": {},
   "outputs": [],
   "source": [
    "import string"
   ]
  },
  {
   "cell_type": "markdown",
   "id": "435cc3e7-960e-4159-b6f6-3a4737952f1c",
   "metadata": {},
   "source": [
    "## Encryption and Debugging"
   ]
  },
  {
   "cell_type": "code",
   "execution_count": 134,
   "id": "bd95e8e3-2ada-4f5f-b94d-1794299401ba",
   "metadata": {},
   "outputs": [
    {
     "name": "stdout",
     "output_type": "stream",
     "text": [
      "['A', 'B', 'C', 'D', 'E', 'F', 'G', 'H', 'I', 'J', 'K', 'L', 'M', 'N', 'O', 'P', 'Q', 'R', 'S', 'T', 'U', 'V', 'W', 'X', 'Y', 'Z']\n"
     ]
    }
   ],
   "source": [
    "alphabets = string.ascii_uppercase\n",
    "alphabets = list(alphabets)\n",
    "print(alphabets)"
   ]
  },
  {
   "cell_type": "code",
   "execution_count": 181,
   "id": "f5cad26e-2d5c-4c06-8df1-f13c73de3a78",
   "metadata": {},
   "outputs": [],
   "source": [
    "def encrypt(p_message, p_shift_number):\n",
    "    cipher_message = \"\"\n",
    "    for char in p_message.upper():\n",
    "        if char in alphabets:\n",
    "            position = alphabets.index(char)\n",
    "            new_position = position+p_shift_number\n",
    "            while new_position >= len(alphabets):\n",
    "                new_position -= len(alphabets)\n",
    "            new_char = alphabets[new_position]\n",
    "            cipher_message += new_char\n",
    "        else:\n",
    "            cipher_message += char\n",
    "    return f'The encoded message is {cipher_message}'"
   ]
  },
  {
   "cell_type": "code",
   "execution_count": 160,
   "id": "e321ff68-3443-44fc-bd14-160d36ea6386",
   "metadata": {},
   "outputs": [
    {
     "name": "stdin",
     "output_type": "stream",
     "text": [
      "Enter your message:\n",
      " Et tu, Brute?\n",
      "Enter the shift number:\n",
      " 2\n"
     ]
    },
    {
     "data": {
      "text/plain": [
       "'The encoded message is GV VW, DTWVG?'"
      ]
     },
     "execution_count": 160,
     "metadata": {},
     "output_type": "execute_result"
    }
   ],
   "source": [
    "message = input('Enter your message:\\n').upper()\n",
    "shift_number = int(input('Enter the shift number:\\n')) \n",
    "encrypt(message, shift_number)"
   ]
  },
  {
   "cell_type": "markdown",
   "id": "94549850-8db9-4016-aa31-e1f7465aff56",
   "metadata": {},
   "source": [
    "## Decryption and Debugging"
   ]
  },
  {
   "cell_type": "code",
   "execution_count": 177,
   "id": "bfdc8991-6a84-4904-b238-c57e432afdc9",
   "metadata": {},
   "outputs": [],
   "source": [
    "def decrypt(p_message, p_shift_number):\n",
    "    original_message = \"\"\n",
    "    for char in p_message.upper():\n",
    "        if char in alphabets:\n",
    "            position = alphabets.index(char)\n",
    "            old_position = position - p_shift_number\n",
    "            while old_position < 0:\n",
    "                old_position += len(alphabets)\n",
    "            new_char = alphabets[old_position]\n",
    "            original_message += new_char\n",
    "        else:\n",
    "            original_message += char\n",
    "    return f'The decoded message is {original_message}'\n"
   ]
  },
  {
   "cell_type": "code",
   "execution_count": 180,
   "id": "e842762c-6385-4b7f-9295-49885ad5238b",
   "metadata": {},
   "outputs": [
    {
     "name": "stdin",
     "output_type": "stream",
     "text": [
      "Enter your message: \n",
      " GV VW, DTWVG?\n",
      "Enter the shift number: \n",
      " 28\n"
     ]
    },
    {
     "data": {
      "text/plain": [
       "'The decoded message is ET TU, BRUTE?'"
      ]
     },
     "execution_count": 180,
     "metadata": {},
     "output_type": "execute_result"
    }
   ],
   "source": [
    "cipher_message = input(\"Enter your message: \\n\")\n",
    "shift_number = int(input('Enter the shift number: \\n'))\n",
    "decrypt(cipher_message,shift_number)"
   ]
  },
  {
   "cell_type": "code",
   "execution_count": null,
   "id": "6539be6e-895e-4a20-abbf-c668cba89ba8",
   "metadata": {},
   "outputs": [],
   "source": []
  },
  {
   "cell_type": "markdown",
   "id": "0d9ea3d3-bf88-407d-8722-c5811b3ec95b",
   "metadata": {},
   "source": [
    "## Putting Encrypt and Decrypt together"
   ]
  },
  {
   "cell_type": "code",
   "execution_count": 185,
   "id": "b69e300d-6475-40c9-880a-ddd7da69557b",
   "metadata": {},
   "outputs": [
    {
     "name": "stdin",
     "output_type": "stream",
     "text": [
      "type \"E\" to encrypt, type \"D\" to decrypt: \n",
      " E\n"
     ]
    }
   ],
   "source": []
  },
  {
   "cell_type": "code",
   "execution_count": 198,
   "id": "18be0386-7f91-4f0b-9d09-efb596aa4a57",
   "metadata": {},
   "outputs": [
    {
     "name": "stdout",
     "output_type": "stream",
     "text": [
      "           \n",
      " .aMMMIll. ,apMMIIle,  ,apMMIle, ,apMMIle, ,apMMIIle,  5b,dMMIle,  \n",
      "as\"     \"\" \"\"     `I5 a5M     ll I5I    \"\" \"\"     `I5  llM'   \"I5  \n",
      "aM         APPMILLERS APPMILLERS  `\"I5le,  APPMILLERS  ll          \n",
      "\"aM,   ,pp ll,    ,ll \"5b,    .. pp    I5I ll,    ,ll  ll          \n",
      " `\"Miller\" `\"5wwdM\"I5  `\"Iwwd5\"' `\"IwwdM\"' `\"5wwdM\"I5  ll   \n",
      "                          ll                                 \n",
      "           \"\"             ll                                 \n",
      "                          ll                                 \n",
      " ,apMMIle, ll 5b,dMMIle,  ll,dMMIle,   ,apMMIle, 5b,dMMIle,  \n",
      "a5\"     \"\" ll llM'    \"5a llM'    \"5a a5M_____ll llM'   \"I5  \n",
      "5b         ll ll       d5 ll       ll 5MM\" ll          \n",
      "\"5a,   ,pp ll llb,   ,a5\" ll       ll \"5b,   ,pp ll          \n",
      " `\"Mille\"' ll ll`Mille'   ll       ll  `\"Miler\"' ll          \n",
      "              ll                                             \n",
      "              ll           \n",
      "\n"
     ]
    },
    {
     "name": "stdin",
     "output_type": "stream",
     "text": [
      "type \"E\" to encrypt, type \"D\" to decrypt: \n",
      " D\n",
      "Enter your message: \n",
      " alsdfkja;sldfsadknf ;alsnlskf\n",
      "Enter the shift number: \n",
      " 58976\n"
     ]
    },
    {
     "name": "stdout",
     "output_type": "stream",
     "text": [
      "The decoded message is SDKVXCBS;KDVXKSVCFX ;SDKFDKCX\n"
     ]
    },
    {
     "name": "stdin",
     "output_type": "stream",
     "text": [
      "Type \"Y\" if you want to continue, otherwise type \"N\" \n",
      " N\n"
     ]
    },
    {
     "name": "stdout",
     "output_type": "stream",
     "text": [
      "See you next time.\n"
     ]
    }
   ],
   "source": [
    "from logo import logo\n",
    "print(logo)\n",
    "\n",
    "end_program = False\n",
    "\n",
    "while not end_program:\n",
    "    enc_dec = input('type \"E\" to encrypt, type \"D\" to decrypt: \\n')\n",
    "    message = input(\"Enter your message: \\n\")\n",
    "    shift_number = int(input('Enter the shift number: \\n'))\n",
    "    if enc_dec == 'E':\n",
    "        encrypted_message = encrypt(message, shift_number)\n",
    "        print(encrypted_message)\n",
    "    else:\n",
    "        decrypted_message = decrypt(message, shift_number)\n",
    "        print(decrypted_message)\n",
    "    restart = input('Type \"Y\" if you want to continue, otherwise type \"N\" \\n')\n",
    "    if restart == \"N\":\n",
    "        end_program = True\n",
    "        print('See you next time.')"
   ]
  },
  {
   "cell_type": "code",
   "execution_count": 193,
   "id": "263efee4-94a4-42bb-b1f4-c56a0c6110ac",
   "metadata": {},
   "outputs": [],
   "source": []
  },
  {
   "cell_type": "markdown",
   "id": "f90043f4-e456-4895-af74-1dbb99222f84",
   "metadata": {},
   "source": [
    "## Code Optimization"
   ]
  },
  {
   "cell_type": "code",
   "execution_count": 221,
   "id": "4627cb1a-df64-4b44-8e4f-5028216accbc",
   "metadata": {},
   "outputs": [],
   "source": [
    "def refactor_position(p_position, p_cipher_type):\n",
    "    if p_cipher_type == 'E':\n",
    "        while p_position >= len(alphabets):\n",
    "            p_position -= len(alphabets)\n",
    "    else:\n",
    "        while p_position < 0:\n",
    "            p_position += len(alphabets)\n",
    "    return p_position"
   ]
  },
  {
   "cell_type": "code",
   "execution_count": 222,
   "id": "a545810f-dad9-4a3f-a9c6-0a6af1fd7606",
   "metadata": {},
   "outputs": [],
   "source": [
    "def ceaser_cipher(p_initial_text, p_shift_number, p_cipher_type):\n",
    "    final_text = ''\n",
    "    if p_cipher_type == 'D':\n",
    "        p_shift_number *= -1\n",
    "    for char in p_initial_text:\n",
    "        if char in alphabets:\n",
    "            position = alphabets.index(char)\n",
    "            new_position = position + p_shift_number\n",
    "            new_position = refactor_position(new_position, p_cipher_type)\n",
    "            final_text += alphabets[new_position]\n",
    "        else:\n",
    "            final_text += char\n",
    "    print(f\"Here is the {'decoded' if p_cipher_type == 'D' else 'encoded'} result: {final_text} \")"
   ]
  },
  {
   "cell_type": "code",
   "execution_count": null,
   "id": "dde93071-b7ea-42d1-8f96-9e2228fed01c",
   "metadata": {},
   "outputs": [],
   "source": []
  },
  {
   "cell_type": "code",
   "execution_count": 224,
   "id": "180d5d35-b0f5-44ab-affe-8c09aa9a185d",
   "metadata": {},
   "outputs": [
    {
     "name": "stdout",
     "output_type": "stream",
     "text": [
      "           \n",
      " .aMMMIll. ,apMMIIle,  ,apMMIle, ,apMMIle, ,apMMIIle,  5b,dMMIle,  \n",
      "as\"     \"\" \"\"     `I5 a5M     ll I5I    \"\" \"\"     `I5  llM'   \"I5  \n",
      "aM         APPMILLERS APPMILLERS  `\"I5le,  APPMILLERS  ll          \n",
      "\"aM,   ,pp ll,    ,ll \"5b,    .. pp    I5I ll,    ,ll  ll          \n",
      " `\"Miller\" `\"5wwdM\"I5  `\"Iwwd5\"' `\"IwwdM\"' `\"5wwdM\"I5  ll   \n",
      "                          ll                                 \n",
      "           \"\"             ll                                 \n",
      "                          ll                                 \n",
      " ,apMMIle, ll 5b,dMMIle,  ll,dMMIle,   ,apMMIle, 5b,dMMIle,  \n",
      "a5\"     \"\" ll llM'    \"5a llM'    \"5a a5M_____ll llM'   \"I5  \n",
      "5b         ll ll       d5 ll       ll 5MM\" ll          \n",
      "\"5a,   ,pp ll llb,   ,a5\" ll       ll \"5b,   ,pp ll          \n",
      " `\"Mille\"' ll ll`Mille'   ll       ll  `\"Miler\"' ll          \n",
      "              ll                                             \n",
      "              ll           \n",
      "\n"
     ]
    },
    {
     "name": "stdin",
     "output_type": "stream",
     "text": [
      "type \"E\" to encrypt, type \"D\" to decrypt: \n",
      " appmillers\n",
      "Enter your message: \n",
      " 5\n",
      "Enter the shift number: \n",
      " 5\n"
     ]
    },
    {
     "name": "stdout",
     "output_type": "stream",
     "text": [
      "Here is the encoded result: 5 \n"
     ]
    },
    {
     "name": "stdin",
     "output_type": "stream",
     "text": [
      "Type \"Y\" if you want to continue, otherwise type \"N\" \n",
      " Y\n",
      "type \"E\" to encrypt, type \"D\" to decrypt: \n",
      " E\n",
      "Enter your message: \n",
      " appmillers\n",
      "Enter the shift number: \n",
      " 5\n"
     ]
    },
    {
     "name": "stdout",
     "output_type": "stream",
     "text": [
      "Here is the encoded result: FUURNQQJWX \n"
     ]
    },
    {
     "name": "stdin",
     "output_type": "stream",
     "text": [
      "Type \"Y\" if you want to continue, otherwise type \"N\" \n",
      " Y\n",
      "type \"E\" to encrypt, type \"D\" to decrypt: \n",
      " D\n",
      "Enter your message: \n",
      " FUURNQQJWX \n",
      "Enter the shift number: \n",
      " 5\n"
     ]
    },
    {
     "name": "stdout",
     "output_type": "stream",
     "text": [
      "Here is the decoded result: APPMILLERS  \n"
     ]
    },
    {
     "name": "stdin",
     "output_type": "stream",
     "text": [
      "Type \"Y\" if you want to continue, otherwise type \"N\" \n",
      " N\n"
     ]
    },
    {
     "name": "stdout",
     "output_type": "stream",
     "text": [
      "See you next time.\n"
     ]
    }
   ],
   "source": [
    "from logo import logo\n",
    "print(logo)\n",
    "\n",
    "end_program = False\n",
    "\n",
    "while not end_program:\n",
    "    enc_dec = input('type \"E\" to encrypt, type \"D\" to decrypt: \\n')\n",
    "    message = input(\"Enter your message: \\n\").upper()\n",
    "    shift_number = int(input('Enter the shift number: \\n'))\n",
    "    ceaser_cipher(message, shift_number, enc_dec)\n",
    "    restart = input('Type \"Y\" if you want to continue, otherwise type \"N\" \\n')\n",
    "    if restart == \"N\":\n",
    "        end_program = True\n",
    "        print('See you next time.')"
   ]
  },
  {
   "cell_type": "code",
   "execution_count": null,
   "id": "af3f581f-33a3-4ee6-a5f9-884046a432e4",
   "metadata": {},
   "outputs": [],
   "source": []
  },
  {
   "cell_type": "code",
   "execution_count": null,
   "id": "d118996a-53fb-4b99-a81f-ab06fcb20a82",
   "metadata": {},
   "outputs": [],
   "source": []
  },
  {
   "cell_type": "code",
   "execution_count": null,
   "id": "e5fb6ed8-4590-42a6-aeb7-f14b987d00ff",
   "metadata": {},
   "outputs": [],
   "source": []
  },
  {
   "cell_type": "code",
   "execution_count": null,
   "id": "61339c91-2e26-4979-8edd-3d0524f6a021",
   "metadata": {},
   "outputs": [],
   "source": []
  },
  {
   "cell_type": "code",
   "execution_count": null,
   "id": "4e873380-aedb-403c-8e5a-2c730dc7889c",
   "metadata": {},
   "outputs": [],
   "source": []
  },
  {
   "cell_type": "code",
   "execution_count": null,
   "id": "942dfcc6-6e7b-46b1-b986-b6be3b73b7be",
   "metadata": {},
   "outputs": [],
   "source": []
  }
 ],
 "metadata": {
  "kernelspec": {
   "display_name": "Python 3 (ipykernel)",
   "language": "python",
   "name": "python3"
  },
  "language_info": {
   "codemirror_mode": {
    "name": "ipython",
    "version": 3
   },
   "file_extension": ".py",
   "mimetype": "text/x-python",
   "name": "python",
   "nbconvert_exporter": "python",
   "pygments_lexer": "ipython3",
   "version": "3.9.13"
  }
 },
 "nbformat": 4,
 "nbformat_minor": 5
}
