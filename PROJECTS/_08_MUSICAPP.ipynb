{
 "cells": [
  {
   "cell_type": "markdown",
   "id": "8d4334da-4bb2-4be5-a486-c40570fa4f2f",
   "metadata": {},
   "source": [
    "# MUSIC APP"
   ]
  },
  {
   "cell_type": "code",
   "execution_count": 1,
   "id": "b94b2f24-0400-42d6-8a96-49be4485dd4d",
   "metadata": {},
   "outputs": [],
   "source": [
    "playlist = [\n",
    "            ('Green Day', [\n",
    "                            (1, 'Somewhere Now'),\n",
    "                            (2, 'Bang Bang'),\n",
    "                            (3, 'Revolution Radio'),\n",
    "                            (4, 'Say Goodbye'),\n",
    "                            (5, 'Outlaws')\n",
    "                          ]\n",
    "            ),\n",
    "            ('Metallica', [\n",
    "                            (1, 'Battery'),\n",
    "                            (2, 'Master of Puppets'),\n",
    "                            (3, 'The thing that should not be'),\n",
    "                            (4, 'Welcome Home (sanitarium)')\n",
    "                          ]\n",
    "            ),\n",
    "            ('U2',        [\n",
    "                        (1, 'The Miracle'),\n",
    "                        (2, 'Every Breaking Wave'),\n",
    "                        (3, 'California'),\n",
    "                        (4, 'Song for Someone'),\n",
    "                        (5, 'Iris (Hold Me Close)')\n",
    "                          ]\n",
    "            )\n",
    "]"
   ]
  },
  {
   "cell_type": "code",
   "execution_count": 2,
   "id": "a9dafb56-589f-403c-8ad3-d9859fad0676",
   "metadata": {},
   "outputs": [],
   "source": [
    "def print_playlist():\n",
    "    for b_index, band in enumerate(playlist, 1):\n",
    "        name, songs = band\n",
    "        for song_num, song in songs:\n",
    "            print(f\"{b_index}:{song_num} {name} - {song}\")"
   ]
  },
  {
   "cell_type": "code",
   "execution_count": 3,
   "id": "2ed0f7f6-bb68-4cce-8b6d-c27ddfa73225",
   "metadata": {},
   "outputs": [],
   "source": [
    "def print_song(p_bnumber, p_snumber):\n",
    "    try:\n",
    "        band_name = playlist[p_bnumber-1][0]\n",
    "        song_name = playlist[p_bnumber-1][1][p_snumber-1][1]\n",
    "    except IndexError:\n",
    "        print('This song does not exist in playlist.')\n",
    "    else:\n",
    "        print(f'\\n{band_name} - {song_name} playing now...')\n",
    "        "
   ]
  },
  {
   "cell_type": "code",
   "execution_count": 9,
   "id": "42a4248c-6b3c-4636-b9dc-290e634d9e53",
   "metadata": {
    "tags": []
   },
   "outputs": [
    {
     "name": "stdout",
     "output_type": "stream",
     "text": [
      "1:1 Green Day - Somewhere Now\n",
      "1:2 Green Day - Bang Bang\n",
      "1:3 Green Day - Revolution Radio\n",
      "1:4 Green Day - Say Goodbye\n",
      "1:5 Green Day - Outlaws\n",
      "2:1 Metallica - Battery\n",
      "2:2 Metallica - Master of Puppets\n",
      "2:3 Metallica - The thing that should not be\n",
      "2:4 Metallica - Welcome Home (sanitarium)\n",
      "3:1 U2 - The Miracle\n",
      "3:2 U2 - Every Breaking Wave\n",
      "3:3 U2 - California\n",
      "3:4 U2 - Song for Someone\n",
      "3:5 U2 - Iris (Hold Me Close)\n"
     ]
    },
    {
     "name": "stdin",
     "output_type": "stream",
     "text": [
      "\n",
      "Select a song to play using number: (1:1) rrr\n"
     ]
    },
    {
     "name": "stdout",
     "output_type": "stream",
     "text": [
      "The format is correct, it should be like (1:1)\n"
     ]
    },
    {
     "name": "stdin",
     "output_type": "stream",
     "text": [
      "\n",
      "Press C to change the song or any key to quit APP:  \n"
     ]
    },
    {
     "name": "stdout",
     "output_type": "stream",
     "text": [
      "Good Bye! \n"
     ]
    }
   ],
   "source": [
    "while True:\n",
    "    print_playlist()\n",
    "    current_play = input('\\nSelect a song to play using number: (1:1)')\n",
    "    try:\n",
    "        band_number = int(current_play[0])\n",
    "        song_number = int(current_play[2])\n",
    "    except ValueError:\n",
    "        print('The format is correct, it should be like (1:1)')\n",
    "    else:\n",
    "        print_song(band_number, song_number)\n",
    "    change = input(\"\\nPress C to change the song or any key to quit APP: \")\n",
    "    if change == 'C':\n",
    "        continue\n",
    "    break\n",
    "print('Good Bye! ')"
   ]
  },
  {
   "cell_type": "code",
   "execution_count": null,
   "id": "9f9c967e-8156-40d8-8b61-a848323dfd9f",
   "metadata": {},
   "outputs": [],
   "source": []
  },
  {
   "cell_type": "code",
   "execution_count": null,
   "id": "316eaf93-0593-4b00-83e7-bb329f886e96",
   "metadata": {},
   "outputs": [],
   "source": []
  },
  {
   "cell_type": "code",
   "execution_count": null,
   "id": "2a270a89-3163-4f4f-b4fd-bd2efa72b640",
   "metadata": {},
   "outputs": [],
   "source": []
  },
  {
   "cell_type": "code",
   "execution_count": null,
   "id": "5e7fb47b-402f-43be-a428-bcbd86d2af0d",
   "metadata": {},
   "outputs": [],
   "source": []
  },
  {
   "cell_type": "code",
   "execution_count": null,
   "id": "def51bb3-af3a-4ba9-b7d8-0261c00ed862",
   "metadata": {},
   "outputs": [],
   "source": []
  },
  {
   "cell_type": "code",
   "execution_count": null,
   "id": "94bbab48-2af3-4f12-8adc-93ad78461a69",
   "metadata": {},
   "outputs": [],
   "source": []
  },
  {
   "cell_type": "code",
   "execution_count": null,
   "id": "99ce02ba-14cc-465e-80fa-1820ca1b6f9a",
   "metadata": {},
   "outputs": [],
   "source": []
  }
 ],
 "metadata": {
  "kernelspec": {
   "display_name": "Python 3 (ipykernel)",
   "language": "python",
   "name": "python3"
  },
  "language_info": {
   "codemirror_mode": {
    "name": "ipython",
    "version": 3
   },
   "file_extension": ".py",
   "mimetype": "text/x-python",
   "name": "python",
   "nbconvert_exporter": "python",
   "pygments_lexer": "ipython3",
   "version": "3.9.13"
  }
 },
 "nbformat": 4,
 "nbformat_minor": 5
}
