{
 "cells": [
  {
   "cell_type": "markdown",
   "id": "00c5f4a4-e6cf-4709-82e2-af793309cc7b",
   "metadata": {},
   "source": [
    "# BLIND AUCTION"
   ]
  },
  {
   "cell_type": "code",
   "execution_count": 52,
   "id": "957791e4-2974-4eb2-9020-fcedcf47dfaf",
   "metadata": {},
   "outputs": [
    {
     "name": "stdin",
     "output_type": "stream",
     "text": [
      "What is your name?:  v\n",
      "What is your bid amount? $ 20\n",
      "Are there any other bidders? (Y/N) Y\n",
      "What is your name?:  a\n",
      "What is your bid amount? $ 20\n",
      "Are there any other bidders? (Y/N) N\n"
     ]
    },
    {
     "name": "stdout",
     "output_type": "stream",
     "text": [
      "The winner is v with a bid of $ 20\n"
     ]
    }
   ],
   "source": [
    "bids = {}\n",
    "bidding_finished = False\n",
    "while not bidding_finished:\n",
    "    name = input('What is your name?: ')\n",
    "    bid_amount = int(input('What is your bid amount? $'))\n",
    "    bids[name] = bid_amount\n",
    "    should_continue = input('Are there any other bidders? (Y/N)')\n",
    "    if should_continue == 'N':\n",
    "        bidding_finished = True\n",
    "        find_highest_amount(bids)"
   ]
  },
  {
   "cell_type": "code",
   "execution_count": 49,
   "id": "86e502a6-c781-4414-870b-b4d63b9e171b",
   "metadata": {},
   "outputs": [
    {
     "data": {
      "text/plain": [
       "{'Vamshi': 60,\n",
       " 'Karna': 120,\n",
       " 'Arjun': 180,\n",
       " 'Bhima': 160,\n",
       " 'Yudhistir': 250,\n",
       " 'Nakul': 20,\n",
       " 'Sahdev': 25}"
      ]
     },
     "execution_count": 49,
     "metadata": {},
     "output_type": "execute_result"
    }
   ],
   "source": [
    "bids"
   ]
  },
  {
   "cell_type": "code",
   "execution_count": 50,
   "id": "9e5cef13-d4a2-4551-9c53-fcf2825e9391",
   "metadata": {},
   "outputs": [],
   "source": [
    "def find_highest_amount(p_bids):\n",
    "    highest_bid = 0\n",
    "    for key, value in p_bids.items():\n",
    "        if value > highest_bid:\n",
    "            highest_bid = value\n",
    "            bidder_name = key\n",
    "    print(f\"The winner is {bidder_name} with a bid of $ {highest_bid}\")"
   ]
  },
  {
   "cell_type": "code",
   "execution_count": 51,
   "id": "9f950d06-0b51-4f75-b0ce-4794def6e56c",
   "metadata": {},
   "outputs": [
    {
     "name": "stdout",
     "output_type": "stream",
     "text": [
      "The winner is Yudhistir with a bid of $ 250\n"
     ]
    }
   ],
   "source": []
  },
  {
   "cell_type": "code",
   "execution_count": null,
   "id": "394d6a46-6211-4337-84f4-df202e05338c",
   "metadata": {},
   "outputs": [],
   "source": []
  },
  {
   "cell_type": "code",
   "execution_count": null,
   "id": "d0ebf908-c9f2-484f-abc0-d95f20061d66",
   "metadata": {},
   "outputs": [],
   "source": []
  },
  {
   "cell_type": "code",
   "execution_count": null,
   "id": "7c04ba7d-4580-48d0-af72-8667f369af7c",
   "metadata": {},
   "outputs": [],
   "source": []
  },
  {
   "cell_type": "code",
   "execution_count": null,
   "id": "f0571a6c-22dd-459a-ac38-d93a8877ff5c",
   "metadata": {},
   "outputs": [],
   "source": []
  },
  {
   "cell_type": "code",
   "execution_count": null,
   "id": "4f46c482-d9bc-42aa-881a-2144202713f0",
   "metadata": {},
   "outputs": [],
   "source": []
  },
  {
   "cell_type": "code",
   "execution_count": null,
   "id": "619c1011-48a5-49ff-8b82-cf863219ead1",
   "metadata": {},
   "outputs": [],
   "source": []
  },
  {
   "cell_type": "code",
   "execution_count": null,
   "id": "b124c84c-93b8-44cd-a69b-5e03a0f48b7b",
   "metadata": {},
   "outputs": [],
   "source": []
  }
 ],
 "metadata": {
  "kernelspec": {
   "display_name": "Python 3 (ipykernel)",
   "language": "python",
   "name": "python3"
  },
  "language_info": {
   "codemirror_mode": {
    "name": "ipython",
    "version": 3
   },
   "file_extension": ".py",
   "mimetype": "text/x-python",
   "name": "python",
   "nbconvert_exporter": "python",
   "pygments_lexer": "ipython3",
   "version": "3.9.13"
  }
 },
 "nbformat": 4,
 "nbformat_minor": 5
}
