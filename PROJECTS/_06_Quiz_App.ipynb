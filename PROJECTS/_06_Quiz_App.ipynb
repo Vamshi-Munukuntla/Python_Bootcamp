{
 "cells": [
  {
   "cell_type": "markdown",
   "id": "e3eaacb1-ae86-444f-ba0b-547ce7359a9d",
   "metadata": {},
   "source": [
    "# QUIZ APP"
   ]
  },
  {
   "cell_type": "code",
   "execution_count": 1,
   "id": "f076f6b0-3840-4b63-b30e-5c376bdb42cd",
   "metadata": {},
   "outputs": [],
   "source": [
    "quiz = {\n",
    "    1 : {\n",
    "        \"question\" : \"A mapping from a set of keys to their corresponding values\",\n",
    "        \"answer\" : \"Dictionary\"\n",
    "    },\n",
    "    2 : {\n",
    "        \"question\" : \"Another name for a key-value pair\",\n",
    "        \"answer\" : \"Item\"\n",
    "    },\n",
    "    3 : {\n",
    "        \"question\" : \"An object that appears in a dictionary as the first part of a key-value pair\",\n",
    "        \"answer\" : \"Key\"\n",
    "    },\n",
    "    4 : {\n",
    "        \"question\" : \"An object that appears in a dictionary as the second part of a key-value pair\",\n",
    "        \"answer\" : \"Value\"\n",
    "    },\n",
    "    5 : {\n",
    "        \"question\" : \"A loop “inside” of another loop.\",\n",
    "        \"answer\" : \"Nested Loop\"\n",
    "    },\n",
    "    6 : {\n",
    "        \"question\" : \"A dictionary that is an element of another dictionary\",\n",
    "        \"answer\" : \"Nested Dictionary\"\n",
    "    }\n",
    "}"
   ]
  },
  {
   "cell_type": "code",
   "execution_count": 14,
   "id": "06195ccc-d3e1-415c-af98-61134dc61992",
   "metadata": {},
   "outputs": [],
   "source": [
    "# Greeting Function\n",
    "def greeting():\n",
    "    print(f'There are a total of {len(quiz)} questions, you can skip \\\n",
    "a question anytime by typing \"skip\"')\n",
    "    start_play = input(\"Press any key to get started...\")"
   ]
  },
  {
   "cell_type": "code",
   "execution_count": 2,
   "id": "fd5a7780-d66c-4cfc-b093-ed118081d525",
   "metadata": {},
   "outputs": [],
   "source": [
    "# For checking question and answer\n",
    "def check_answer(question_num, answer, attempts, player):\n",
    "    correct_answer = quiz[question_num]['answer']\n",
    "    if correct_answer.lower() == answer.lower():\n",
    "        print('Correct Answer!')\n",
    "        print(f\"{player}'s score is {player_score[player]+1}\")\n",
    "        return True\n",
    "    else:\n",
    "        print(f'Wrong Answer :( You have {attempts - 1} attempts left!')\n",
    "        print('Try Again...')\n",
    "        return False"
   ]
  },
  {
   "cell_type": "code",
   "execution_count": 3,
   "id": "47a3d6b7-28ef-4b19-878d-92818f056ae2",
   "metadata": {},
   "outputs": [],
   "source": [
    "# For switching users\n",
    "def switch_users(p_user_index):\n",
    "    if p_user_index == 0:\n",
    "        return 1\n",
    "    return 0"
   ]
  },
  {
   "cell_type": "code",
   "execution_count": 6,
   "id": "cbe79ae4-44e7-4b07-b3ad-efdb71acc9fa",
   "metadata": {},
   "outputs": [],
   "source": [
    "# Find Winner\n",
    "\n",
    "def find_winner(player1, player2):\n",
    "    if player_score[player1] > player_score[player2]:\n",
    "        print(f\"{player1} WON! The score is {player_score[player1]}\")\n",
    "    elif player_score[player1] < player_score[player2]:\n",
    "        print(f\"{player2} WON! The score is {player_score[player2]}\")\n",
    "    else:\n",
    "        print(\"It's DRAW!\")"
   ]
  },
  {
   "cell_type": "code",
   "execution_count": 23,
   "id": "8dd45dc3-cb31-48e1-9aa4-94bb8d1896c9",
   "metadata": {},
   "outputs": [],
   "source": [
    "# print correct answers\n",
    "def print_correct_answers():  \n",
    "    for question_num, nested_dic in quiz.items():\n",
    "        for key, value in nested_dic.items():\n",
    "            print(key +\":\",value)"
   ]
  },
  {
   "cell_type": "code",
   "execution_count": 37,
   "id": "9d62554b-44fe-4e0c-8a0f-b7f3226bb710",
   "metadata": {},
   "outputs": [
    {
     "name": "stdout",
     "output_type": "stream",
     "text": [
      "There are a total of 6 questions, you can skip a question anytime by typing \"skip\"\n"
     ]
    },
    {
     "name": "stdin",
     "output_type": "stream",
     "text": [
      "Press any key to get started... \n",
      "Enter 2 Players with Space:  \n"
     ]
    },
    {
     "name": "stdout",
     "output_type": "stream",
     "text": [
      "-----------------------------------\n",
      "It is 's turn. \n",
      "A mapping from a set of keys to their corresponding values\n"
     ]
    },
    {
     "name": "stdin",
     "output_type": "stream",
     "text": [
      "Enter Answer {To move to the next question,type, \"skip\"} \n"
     ]
    },
    {
     "name": "stdout",
     "output_type": "stream",
     "text": [
      "Wrong Answer :( You have 0 attempts left!\n",
      "Try Again...\n",
      "list index out of range\n",
      "-----------------------------------\n",
      "It is 's turn. \n",
      "Another name for a key-value pair\n"
     ]
    },
    {
     "name": "stdin",
     "output_type": "stream",
     "text": [
      "Enter Answer {To move to the next question,type, \"skip\"} \n"
     ]
    },
    {
     "name": "stdout",
     "output_type": "stream",
     "text": [
      "Wrong Answer :( You have 0 attempts left!\n",
      "Try Again...\n",
      "list index out of range\n",
      "-----------------------------------\n",
      "It is 's turn. \n",
      "An object that appears in a dictionary as the first part of a key-value pair\n"
     ]
    },
    {
     "name": "stdin",
     "output_type": "stream",
     "text": [
      "Enter Answer {To move to the next question,type, \"skip\"} \n"
     ]
    },
    {
     "name": "stdout",
     "output_type": "stream",
     "text": [
      "Wrong Answer :( You have 0 attempts left!\n",
      "Try Again...\n",
      "list index out of range\n",
      "-----------------------------------\n",
      "It is 's turn. \n",
      "An object that appears in a dictionary as the second part of a key-value pair\n"
     ]
    },
    {
     "name": "stdin",
     "output_type": "stream",
     "text": [
      "Enter Answer {To move to the next question,type, \"skip\"} \n"
     ]
    },
    {
     "name": "stdout",
     "output_type": "stream",
     "text": [
      "Wrong Answer :( You have 0 attempts left!\n",
      "Try Again...\n",
      "list index out of range\n",
      "-----------------------------------\n",
      "It is 's turn. \n",
      "A loop “inside” of another loop.\n"
     ]
    },
    {
     "name": "stdin",
     "output_type": "stream",
     "text": [
      "Enter Answer {To move to the next question,type, \"skip\"} \n"
     ]
    },
    {
     "name": "stdout",
     "output_type": "stream",
     "text": [
      "Wrong Answer :( You have 0 attempts left!\n",
      "Try Again...\n",
      "list index out of range\n",
      "-----------------------------------\n",
      "It is 's turn. \n",
      "A dictionary that is an element of another dictionary\n"
     ]
    },
    {
     "name": "stdin",
     "output_type": "stream",
     "text": [
      "Enter Answer {To move to the next question,type, \"skip\"} \n"
     ]
    },
    {
     "name": "stdout",
     "output_type": "stream",
     "text": [
      "Wrong Answer :( You have 0 attempts left!\n",
      "Try Again...\n",
      "list index out of range\n",
      "list index out of range\n"
     ]
    },
    {
     "name": "stdin",
     "output_type": "stream",
     "text": [
      "Do you want to see the correct answers?(Y/N): \n"
     ]
    },
    {
     "name": "stdout",
     "output_type": "stream",
     "text": [
      "Thanks for playing\n"
     ]
    }
   ],
   "source": [
    "greeting()\n",
    "players = input('Enter 2 Players with Space: ')\n",
    "player_list = players.split(' ')\n",
    "player_score = dict.fromkeys(player_list, 0)\n",
    "current_player = player_list[0]\n",
    "\n",
    "for question in quiz:\n",
    "    print('-'*35)\n",
    "    print(f\"It is {current_player}'s turn. \")\n",
    "    attempts = 2\n",
    "    while attempts > 0:\n",
    "        print(quiz[question]['question'])\n",
    "        attempts -= 1\n",
    "        answer = input('Enter Answer {To move to the next question,\\\n",
    "type, \"skip\"}')\n",
    "        if answer == 'skip':\n",
    "            break\n",
    "        check = check_answer(question, answer, attempts, current_player)\n",
    "        if check:\n",
    "            player_score [current_player] += 1\n",
    "            break\n",
    "        attempts -= 1\n",
    "        \n",
    "    current_player_index = player_list.index(current_player)\n",
    "    next_player_index = switch_users(current_player_index)\n",
    "    ans = True\n",
    "    while ans == True:\n",
    "        try:\n",
    "            current_player = player_list[next_player_index]\n",
    "        except IndexError as e:\n",
    "            ans = False\n",
    "            print(e)\n",
    "            break\n",
    "            \n",
    "last = True\n",
    "while last == True:\n",
    "    try:\n",
    "        find_winner(player_list[0], player_list[1])\n",
    "    except IndexError as e:\n",
    "        last = False\n",
    "        print(e)\n",
    "        break\n",
    "show_correct_answers = input('Do you want to see the correct answers?(Y/N):')\n",
    "if show_correct_answers == 'Y':\n",
    "    print_correct_answers()\n",
    "print('Thanks for playing')"
   ]
  },
  {
   "cell_type": "code",
   "execution_count": 11,
   "id": "0a144334-39e8-4998-99bc-1f316b8f2d3b",
   "metadata": {},
   "outputs": [
    {
     "name": "stdout",
     "output_type": "stream",
     "text": [
      "Dictionary\n",
      "Item\n",
      "Key\n",
      "Value\n",
      "Nested Loop\n",
      "Nested Dictionary\n"
     ]
    }
   ],
   "source": [
    "for answer in quiz:\n",
    "    print(quiz[answer]['answer'])"
   ]
  },
  {
   "cell_type": "code",
   "execution_count": 12,
   "id": "b576c5e4-b202-4ed6-8820-9ef332aa11b1",
   "metadata": {},
   "outputs": [
    {
     "name": "stdout",
     "output_type": "stream",
     "text": [
      "question: A mapping from a set of keys to their corresponding values\n",
      "answer: Dictionary\n",
      "question: Another name for a key-value pair\n",
      "answer: Item\n",
      "question: An object that appears in a dictionary as the first part of a key-value pair\n",
      "answer: Key\n",
      "question: An object that appears in a dictionary as the second part of a key-value pair\n",
      "answer: Value\n",
      "question: A loop “inside” of another loop.\n",
      "answer: Nested Loop\n",
      "question: A dictionary that is an element of another dictionary\n",
      "answer: Nested Dictionary\n"
     ]
    }
   ],
   "source": [
    "    for question_num, nested_dic in quiz.items():\n",
    "        for key, value in nested_dic.items():\n",
    "            print(key +\":\",value)"
   ]
  },
  {
   "cell_type": "code",
   "execution_count": null,
   "id": "33ebee8f-f693-4a89-af3b-43ae6b30d13d",
   "metadata": {},
   "outputs": [],
   "source": []
  },
  {
   "cell_type": "code",
   "execution_count": null,
   "id": "6255cded-437a-4088-834a-a464490c5420",
   "metadata": {},
   "outputs": [],
   "source": []
  },
  {
   "cell_type": "code",
   "execution_count": null,
   "id": "a6edaed5-54a6-4486-9012-e908857aa472",
   "metadata": {},
   "outputs": [],
   "source": []
  },
  {
   "cell_type": "code",
   "execution_count": null,
   "id": "d5ad9e18-be47-4c2f-9aa1-06e2f276c8cb",
   "metadata": {},
   "outputs": [],
   "source": []
  },
  {
   "cell_type": "code",
   "execution_count": null,
   "id": "e6ecd62e-22c4-4843-b411-9aff610373d1",
   "metadata": {},
   "outputs": [],
   "source": []
  },
  {
   "cell_type": "code",
   "execution_count": null,
   "id": "acc43a9b-63f9-41c7-b026-0eb08c002048",
   "metadata": {},
   "outputs": [],
   "source": []
  },
  {
   "cell_type": "code",
   "execution_count": null,
   "id": "5cb5aad1-1cc7-45ec-9d4a-22787418b50c",
   "metadata": {},
   "outputs": [],
   "source": []
  },
  {
   "cell_type": "code",
   "execution_count": null,
   "id": "744562e7-d0d6-4daf-ab43-76ecf41ecc53",
   "metadata": {},
   "outputs": [],
   "source": []
  },
  {
   "cell_type": "code",
   "execution_count": null,
   "id": "60536189-528b-437c-ab25-02cc1cb16977",
   "metadata": {},
   "outputs": [],
   "source": []
  },
  {
   "cell_type": "code",
   "execution_count": null,
   "id": "317556db-256a-4cad-978a-c180e6ff6e56",
   "metadata": {},
   "outputs": [],
   "source": []
  }
 ],
 "metadata": {
  "kernelspec": {
   "display_name": "Python 3 (ipykernel)",
   "language": "python",
   "name": "python3"
  },
  "language_info": {
   "codemirror_mode": {
    "name": "ipython",
    "version": 3
   },
   "file_extension": ".py",
   "mimetype": "text/x-python",
   "name": "python",
   "nbconvert_exporter": "python",
   "pygments_lexer": "ipython3",
   "version": "3.9.13"
  }
 },
 "nbformat": 4,
 "nbformat_minor": 5
}
