{
 "cells": [
  {
   "cell_type": "markdown",
   "id": "93ebc1ab-0f98-40a4-b51f-8d32b13e7d14",
   "metadata": {},
   "source": [
    "# Calculate Price"
   ]
  },
  {
   "cell_type": "code",
   "execution_count": 1,
   "id": "6ccf41fd-7dc8-4ec8-b5f9-1b2e825bbef1",
   "metadata": {},
   "outputs": [],
   "source": [
    "available_parts = {\n",
    "    \"1\":'computer',\n",
    "    \"2\":'monitor',\n",
    "    \"3\":'keyboard',\n",
    "    \"4\":'mouse',\n",
    "    \"5\":'hdmi cable',\n",
    "    \"6\":'dvd drive'\n",
    "}"
   ]
  },
  {
   "cell_type": "code",
   "execution_count": 2,
   "id": "1b8e8cfc-d222-40fd-bed1-13ae9af317ab",
   "metadata": {},
   "outputs": [],
   "source": [
    "price_quantity = {\n",
    "    'computer':{\"price\":500, 'quantity':10},\n",
    "    'monitor':{\"price\":200, 'quantity':8},\n",
    "    'keyboard':{\"price\":500, 'quantity':5},\n",
    "    'mouse':{\"price\":10, 'quantity':0},\n",
    "    'hdmi cable':{\"price\":20, 'quantity':7},\n",
    "    'dvd drive':{\"price\":50, 'quantity':5}\n",
    "}"
   ]
  },
  {
   "cell_type": "code",
   "execution_count": 31,
   "id": "51f30231-47be-4f7c-bbe7-c27e8209ba38",
   "metadata": {},
   "outputs": [
    {
     "name": "stdout",
     "output_type": "stream",
     "text": [
      "Please add options from the list\n",
      "1: computer\n",
      "2: monitor\n",
      "3: keyboard\n",
      "4: mouse\n",
      "5: hdmi cable\n",
      "6: dvd drive\n",
      "0: to finish\n"
     ]
    },
    {
     "name": "stdin",
     "output_type": "stream",
     "text": [
      ">  0\n"
     ]
    },
    {
     "name": "stdout",
     "output_type": "stream",
     "text": [
      "Total price: 0\n"
     ]
    }
   ],
   "source": [
    "current_choice = None\n",
    "total_price = 0\n",
    "\n",
    "\n",
    "while current_choice != '0':\n",
    "\n",
    "    if current_choice in available_parts:\n",
    "        chosen_part = available_parts[current_choice]\n",
    "        if price_quantity[chosen_part]['quantity'] > 0:\n",
    "            print(f'Adding {chosen_part}') \n",
    "            total_price += price_quantity[chosen_part]['price']\n",
    "            price_quantity[chosen_part]['quantity'] -= 1\n",
    "        else:\n",
    "            print(f'{chosen_part} is out of stock!')\n",
    "    else:\n",
    "        print('Please add options from the list')\n",
    "        for key, value in available_parts.items():\n",
    "            print(f'{key}: {value}')\n",
    "        print(\"0: to finish\")\n",
    "    current_choice = input('> ')\n",
    "\n",
    "print(f\"Total price: {total_price}\")"
   ]
  },
  {
   "cell_type": "code",
   "execution_count": null,
   "id": "223fbef3-d5cc-4dae-8280-e67de0de5c96",
   "metadata": {},
   "outputs": [],
   "source": []
  },
  {
   "cell_type": "code",
   "execution_count": null,
   "id": "72730403-0535-4309-a051-09e1a4c3158e",
   "metadata": {},
   "outputs": [],
   "source": []
  },
  {
   "cell_type": "code",
   "execution_count": null,
   "id": "6677d756-af14-48bb-a691-0cbdc6fb4265",
   "metadata": {},
   "outputs": [],
   "source": []
  },
  {
   "cell_type": "code",
   "execution_count": null,
   "id": "706d8cce-0082-413e-84bb-d425ef7cb918",
   "metadata": {},
   "outputs": [],
   "source": []
  },
  {
   "cell_type": "code",
   "execution_count": null,
   "id": "41f9d3e6-f863-4e72-8d5c-7ba3061d9736",
   "metadata": {},
   "outputs": [],
   "source": []
  },
  {
   "cell_type": "code",
   "execution_count": null,
   "id": "eb6c803d-290b-443d-95c6-60a5dc39c252",
   "metadata": {},
   "outputs": [],
   "source": []
  },
  {
   "cell_type": "code",
   "execution_count": null,
   "id": "4b541157-6a89-4cd9-99d7-1ffd6faee235",
   "metadata": {},
   "outputs": [],
   "source": []
  },
  {
   "cell_type": "code",
   "execution_count": null,
   "id": "6d480cbd-988a-4252-bab8-fdfc579fd63a",
   "metadata": {},
   "outputs": [],
   "source": []
  },
  {
   "cell_type": "code",
   "execution_count": null,
   "id": "e27f6291-fd3e-4810-a33e-c65017860c87",
   "metadata": {},
   "outputs": [],
   "source": []
  },
  {
   "cell_type": "code",
   "execution_count": null,
   "id": "9d8665f8-1ca9-4a9b-a12a-1ba41dfec14c",
   "metadata": {},
   "outputs": [],
   "source": []
  },
  {
   "cell_type": "code",
   "execution_count": null,
   "id": "2d692f9b-d932-4d23-b6b8-5727eb82834f",
   "metadata": {},
   "outputs": [],
   "source": []
  },
  {
   "cell_type": "code",
   "execution_count": null,
   "id": "edcfb878-4293-48d3-976a-57ad71b9c790",
   "metadata": {},
   "outputs": [],
   "source": []
  },
  {
   "cell_type": "code",
   "execution_count": null,
   "id": "96058ea0-a2cd-495e-8a61-49d0baaa5396",
   "metadata": {},
   "outputs": [],
   "source": []
  },
  {
   "cell_type": "code",
   "execution_count": null,
   "id": "e242a22d-2ed5-4c83-88c8-df27b720893b",
   "metadata": {},
   "outputs": [],
   "source": []
  },
  {
   "cell_type": "code",
   "execution_count": null,
   "id": "2be82315-789f-4e6b-9c06-363aecf0c62a",
   "metadata": {},
   "outputs": [],
   "source": []
  },
  {
   "cell_type": "code",
   "execution_count": null,
   "id": "740278f2-bb17-4b52-91f4-72765bac911e",
   "metadata": {},
   "outputs": [],
   "source": []
  },
  {
   "cell_type": "code",
   "execution_count": null,
   "id": "5e25a90c-3715-493c-8eba-dd608a4b5fb8",
   "metadata": {},
   "outputs": [],
   "source": []
  }
 ],
 "metadata": {
  "kernelspec": {
   "display_name": "Python 3 (ipykernel)",
   "language": "python",
   "name": "python3"
  },
  "language_info": {
   "codemirror_mode": {
    "name": "ipython",
    "version": 3
   },
   "file_extension": ".py",
   "mimetype": "text/x-python",
   "name": "python",
   "nbconvert_exporter": "python",
   "pygments_lexer": "ipython3",
   "version": "3.9.13"
  }
 },
 "nbformat": 4,
 "nbformat_minor": 5
}
