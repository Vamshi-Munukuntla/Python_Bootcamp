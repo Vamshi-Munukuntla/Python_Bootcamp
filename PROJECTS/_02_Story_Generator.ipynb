{
 "cells": [
  {
   "cell_type": "markdown",
   "id": "345244cf-1002-4f81-b601-b8dc6b73f36b",
   "metadata": {},
   "source": [
    "## Story Generator"
   ]
  },
  {
   "cell_type": "code",
   "execution_count": 16,
   "id": "3c6d56bb-3c84-4203-90ae-5512e28d8132",
   "metadata": {},
   "outputs": [
    {
     "name": "stdin",
     "output_type": "stream",
     "text": [
      "What is on your mind? hwowo\n"
     ]
    },
    {
     "name": "stdout",
     "output_type": "stream",
     "text": [
      "hwowo\n"
     ]
    },
    {
     "name": "stdin",
     "output_type": "stream",
     "text": [
      "What is on your mind? as;ldfja\n"
     ]
    },
    {
     "name": "stdout",
     "output_type": "stream",
     "text": [
      "as;ldfja\n"
     ]
    },
    {
     "name": "stdin",
     "output_type": "stream",
     "text": [
      "What is on your mind? \\end\n"
     ]
    },
    {
     "name": "stdout",
     "output_type": "stream",
     "text": [
      "\\end\n",
      "\\end\n"
     ]
    }
   ],
   "source": [
    "end_program = False\n",
    "while not end_program:\n",
    "    message = input('What is on your mind?')\n",
    "    story = ''\n",
    "    story = story + message\n",
    "    print(story)\n",
    "    if message == '\\end':\n",
    "        end_program = True\n",
    "        \n",
    "print(story)"
   ]
  },
  {
   "cell_type": "code",
   "execution_count": 24,
   "id": "1bf042c9-234b-4713-bbd7-7799f2bb063e",
   "metadata": {},
   "outputs": [
    {
     "name": "stdin",
     "output_type": "stream",
     "text": [
      "What is on your mind? hello world\n"
     ]
    },
    {
     "name": "stdout",
     "output_type": "stream",
     "text": [
      "Hello world.\n"
     ]
    }
   ],
   "source": [
    "message = input('What is on your mind?')\n",
    "print(message.capitalize() + '.')"
   ]
  },
  {
   "cell_type": "markdown",
   "id": "2b866087-403d-472a-bba8-9a6a9dd693c0",
   "metadata": {},
   "source": [
    "### Step 1 - Create sentence maker function"
   ]
  },
  {
   "cell_type": "code",
   "execution_count": 27,
   "id": "8d0e84f9-c0e1-48d7-b207-6335bc529814",
   "metadata": {},
   "outputs": [],
   "source": [
    "def sentence_maker(text):\n",
    "    question_words = ['what','how','where']\n",
    "    capitalized_text = text.capitalize()\n",
    "    for word in question_words:\n",
    "        if text.startswith(word):\n",
    "            return f\"{capitalized_text}?\"\n",
    "    return f'{capitalized_text}.'"
   ]
  },
  {
   "cell_type": "code",
   "execution_count": 29,
   "id": "8ed57a74-fdcb-4a03-8164-3fff2304536f",
   "metadata": {},
   "outputs": [
    {
     "data": {
      "text/plain": [
       "'How you doing?'"
      ]
     },
     "execution_count": 29,
     "metadata": {},
     "output_type": "execute_result"
    }
   ],
   "source": [
    "sentence_maker('how you doing')"
   ]
  },
  {
   "cell_type": "markdown",
   "id": "80ad3b1a-76c0-4070-9a2b-bfa1b8f5b957",
   "metadata": {
    "tags": []
   },
   "source": [
    "### Step 2 - Create a loop which asks input from a user continuously"
   ]
  },
  {
   "cell_type": "code",
   "execution_count": 39,
   "id": "7465d4b8-3f26-4894-973f-4e4e96a74f60",
   "metadata": {},
   "outputs": [
    {
     "name": "stdin",
     "output_type": "stream",
     "text": [
      "What is on your mind? adsj;fas\n",
      "What is on your mind? as;djfas\n",
      "What is on your mind? \\end\n"
     ]
    },
    {
     "name": "stdout",
     "output_type": "stream",
     "text": [
      "['Adsj;fas.', 'As;djfas.']\n"
     ]
    }
   ],
   "source": [
    "result = []\n",
    "while True:\n",
    "    user_input = input('What is on your mind?')\n",
    "    if user_input == '\\end':\n",
    "        break\n",
    "    else:\n",
    "        user_input = sentence_maker(user_input)\n",
    "        result.append(user_input)\n",
    "print(result)\n"
   ]
  },
  {
   "cell_type": "markdown",
   "id": "e051742d-a764-4247-b5ff-4be262bdf5ff",
   "metadata": {},
   "source": [
    "### Step 3 - Combine everything together"
   ]
  },
  {
   "cell_type": "code",
   "execution_count": 40,
   "id": "4541efde-2445-4ab9-b033-f04f97189621",
   "metadata": {},
   "outputs": [
    {
     "name": "stdout",
     "output_type": "stream",
     "text": [
      "Adsj;fas. As;djfas.\n"
     ]
    }
   ],
   "source": [
    "story = \" \".join(result)\n",
    "print(story)"
   ]
  },
  {
   "cell_type": "code",
   "execution_count": null,
   "id": "03c14cb3-0745-4c45-980f-0a7a264259dd",
   "metadata": {},
   "outputs": [],
   "source": []
  },
  {
   "cell_type": "code",
   "execution_count": null,
   "id": "57c6a81b-831c-4299-b4f5-95c9e8017e4a",
   "metadata": {},
   "outputs": [],
   "source": []
  },
  {
   "cell_type": "code",
   "execution_count": null,
   "id": "a44cf8b6-58a8-4d2d-a4ad-2c41a46a8dde",
   "metadata": {},
   "outputs": [],
   "source": []
  },
  {
   "cell_type": "code",
   "execution_count": null,
   "id": "6e6b3543-df1a-45ab-8e21-439ada47042d",
   "metadata": {},
   "outputs": [],
   "source": []
  },
  {
   "cell_type": "code",
   "execution_count": null,
   "id": "795c60b0-6b9b-40f2-8e22-8348af5cb74c",
   "metadata": {},
   "outputs": [],
   "source": []
  },
  {
   "cell_type": "code",
   "execution_count": null,
   "id": "cd68f7f8-eabd-4a09-b9d3-676472f31f30",
   "metadata": {},
   "outputs": [],
   "source": []
  },
  {
   "cell_type": "code",
   "execution_count": null,
   "id": "0544d0fd-5634-45bb-89d5-51419ae1f7d5",
   "metadata": {},
   "outputs": [],
   "source": []
  },
  {
   "cell_type": "code",
   "execution_count": null,
   "id": "4b584c1f-dcad-454b-aaf1-2c6e7c56b569",
   "metadata": {},
   "outputs": [],
   "source": []
  },
  {
   "cell_type": "code",
   "execution_count": null,
   "id": "34efe609-ce41-4300-8384-213408532f49",
   "metadata": {},
   "outputs": [],
   "source": []
  },
  {
   "cell_type": "code",
   "execution_count": null,
   "id": "cc87b4fa-5885-4906-a73d-7dd85c7489d2",
   "metadata": {},
   "outputs": [],
   "source": []
  },
  {
   "cell_type": "code",
   "execution_count": null,
   "id": "f5617207-7528-4b39-9ca1-2f42a2586940",
   "metadata": {},
   "outputs": [],
   "source": []
  },
  {
   "cell_type": "code",
   "execution_count": null,
   "id": "6c660d53-1662-4368-9dc2-c2f21cb6a4de",
   "metadata": {},
   "outputs": [],
   "source": []
  },
  {
   "cell_type": "code",
   "execution_count": null,
   "id": "9c823837-b1e3-48e2-8c44-1134a9df2883",
   "metadata": {},
   "outputs": [],
   "source": []
  },
  {
   "cell_type": "code",
   "execution_count": null,
   "id": "461f524a-b3ee-45b6-b2ee-9afaeee8ba32",
   "metadata": {},
   "outputs": [],
   "source": []
  },
  {
   "cell_type": "code",
   "execution_count": null,
   "id": "d72139a0-adea-42fa-8bba-337fbdfc2253",
   "metadata": {},
   "outputs": [],
   "source": []
  },
  {
   "cell_type": "code",
   "execution_count": null,
   "id": "c7812548-a5d4-489e-b8fb-a8b276866915",
   "metadata": {},
   "outputs": [],
   "source": []
  },
  {
   "cell_type": "code",
   "execution_count": null,
   "id": "3989cf9c-5691-4839-9e67-d6658a83b6da",
   "metadata": {},
   "outputs": [],
   "source": []
  },
  {
   "cell_type": "code",
   "execution_count": null,
   "id": "ee721b24-2729-4f39-adc9-380d4a5c06f5",
   "metadata": {},
   "outputs": [],
   "source": []
  },
  {
   "cell_type": "code",
   "execution_count": null,
   "id": "eb296d02-210f-43a9-b0e9-5ce2e685c33e",
   "metadata": {},
   "outputs": [],
   "source": []
  },
  {
   "cell_type": "code",
   "execution_count": null,
   "id": "514f7ba8-9bb7-457f-aabb-6ae1cc3e5deb",
   "metadata": {},
   "outputs": [],
   "source": []
  },
  {
   "cell_type": "code",
   "execution_count": null,
   "id": "2958a0da-103f-46dc-bdd4-3432626d078a",
   "metadata": {},
   "outputs": [],
   "source": []
  },
  {
   "cell_type": "code",
   "execution_count": null,
   "id": "44295293-172c-4feb-8600-cb6079974220",
   "metadata": {},
   "outputs": [],
   "source": []
  },
  {
   "cell_type": "code",
   "execution_count": null,
   "id": "2a592478-8dd0-4791-b2b2-2ff415c56732",
   "metadata": {},
   "outputs": [],
   "source": []
  },
  {
   "cell_type": "code",
   "execution_count": null,
   "id": "ddadc8e6-264c-44ae-94fc-f4197fdfeb3e",
   "metadata": {},
   "outputs": [],
   "source": []
  }
 ],
 "metadata": {
  "kernelspec": {
   "display_name": "Python 3 (ipykernel)",
   "language": "python",
   "name": "python3"
  },
  "language_info": {
   "codemirror_mode": {
    "name": "ipython",
    "version": 3
   },
   "file_extension": ".py",
   "mimetype": "text/x-python",
   "name": "python",
   "nbconvert_exporter": "python",
   "pygments_lexer": "ipython3",
   "version": "3.9.13"
  }
 },
 "nbformat": 4,
 "nbformat_minor": 5
}
