{
 "cells": [
  {
   "cell_type": "markdown",
   "id": "f13b853c-d42a-4b48-88da-edb49b0bb03f",
   "metadata": {},
   "source": [
    "# Leap Year with Functions"
   ]
  },
  {
   "cell_type": "code",
   "execution_count": 1,
   "id": "86810a22-0599-444f-b1a3-ec899e5967e7",
   "metadata": {},
   "outputs": [
    {
     "name": "stdin",
     "output_type": "stream",
     "text": [
      "Enter Year: 2020\n"
     ]
    },
    {
     "name": "stdout",
     "output_type": "stream",
     "text": [
      "Leap Year.\n"
     ]
    }
   ],
   "source": [
    "year = int(input('Enter Year:'))\n",
    "if year % 4 == 0:\n",
    "    if year % 100 == 0:\n",
    "        if year % 400 == 0:\n",
    "            print('Leap Year.')\n",
    "        else:\n",
    "            print(\"Not Leap Year.\")\n",
    "    else:\n",
    "        print('Leap Year.')\n",
    "else:\n",
    "    print('Not leap year.')"
   ]
  },
  {
   "cell_type": "code",
   "execution_count": 25,
   "id": "62fe31a5-efed-45a6-aa4c-6f5b053d88b2",
   "metadata": {},
   "outputs": [],
   "source": [
    "def Leap_Year(year=2023):\n",
    "    \"\"\"Returns whether the year\n",
    "    is leap year or not.\n",
    "    \"\"\"\n",
    "    if year % 4 == 0:\n",
    "        if year % 100 == 0:\n",
    "            if year % 400 == 0:\n",
    "                return ('Leap Year.')\n",
    "            else:\n",
    "                return (\"Not Leap Year.\")\n",
    "        else:\n",
    "            return ('Leap Year.')\n",
    "    else:\n",
    "        return ('Not leap year.')"
   ]
  },
  {
   "cell_type": "code",
   "execution_count": 26,
   "id": "55c1f744-bcfc-49a3-9b21-75f47abe8246",
   "metadata": {},
   "outputs": [
    {
     "data": {
      "text/plain": [
       "'Not leap year.'"
      ]
     },
     "execution_count": 26,
     "metadata": {},
     "output_type": "execute_result"
    }
   ],
   "source": [
    "Leap_Year()"
   ]
  },
  {
   "cell_type": "code",
   "execution_count": 32,
   "id": "cea95921-6e41-4660-810a-c7e36c92ea22",
   "metadata": {},
   "outputs": [],
   "source": [
    "import leap"
   ]
  },
  {
   "cell_type": "code",
   "execution_count": 33,
   "id": "5b3ac4f1-dfb2-4e01-a678-54ea5cc140ce",
   "metadata": {},
   "outputs": [
    {
     "data": {
      "text/plain": [
       "'Not leap year.'"
      ]
     },
     "execution_count": 33,
     "metadata": {},
     "output_type": "execute_result"
    }
   ],
   "source": [
    "leap.Leap_Year(2026)"
   ]
  },
  {
   "cell_type": "code",
   "execution_count": null,
   "id": "ab95f725-4291-4905-ad04-3edc087cc520",
   "metadata": {},
   "outputs": [],
   "source": []
  },
  {
   "cell_type": "markdown",
   "id": "6b62dd3d-7376-41f7-902e-99aa79540415",
   "metadata": {},
   "source": [
    "# Gross Pay with Functions"
   ]
  },
  {
   "cell_type": "code",
   "execution_count": 1,
   "id": "b06594c3-8689-4b10-b883-b97ecdfab859",
   "metadata": {},
   "outputs": [],
   "source": [
    "def check_for_float(input):\n",
    "    try:\n",
    "        val = float(input)\n",
    "        return val\n",
    "    except:\n",
    "        print('Error: please enter a numeric input')"
   ]
  },
  {
   "cell_type": "code",
   "execution_count": 6,
   "id": "fa0d191c-5ee3-41f5-b6ba-043de44ed0a1",
   "metadata": {},
   "outputs": [],
   "source": [
    "def gross_pay(hour=hour,rate=rate,threshold=threshold):\n",
    "    if hour < threshold:\n",
    "        pay = round(hour*rate,2)\n",
    "    else:\n",
    "        overtime = hour - threshold\n",
    "        pay = (rate * threshold) + (1.5 * rate * overtime)\n",
    "    return (f'Pay: $ {pay}')"
   ]
  },
  {
   "cell_type": "code",
   "execution_count": 9,
   "id": "a3e46efd-efe0-4ba2-a8ff-1c6ea25678d2",
   "metadata": {},
   "outputs": [
    {
     "name": "stdin",
     "output_type": "stream",
     "text": [
      "Enter Hours: five\n"
     ]
    },
    {
     "name": "stdout",
     "output_type": "stream",
     "text": [
      "Error: please enter a numeric input\n"
     ]
    },
    {
     "name": "stdin",
     "output_type": "stream",
     "text": [
      "Enter rate: five\n"
     ]
    },
    {
     "name": "stdout",
     "output_type": "stream",
     "text": [
      "Error: please enter a numeric input\n"
     ]
    },
    {
     "name": "stdin",
     "output_type": "stream",
     "text": [
      "Enter threshold: five\n"
     ]
    },
    {
     "name": "stdout",
     "output_type": "stream",
     "text": [
      "Error: please enter a numeric input\n"
     ]
    },
    {
     "data": {
      "text/plain": [
       "'Pay: $ 2850.0'"
      ]
     },
     "execution_count": 9,
     "metadata": {},
     "output_type": "execute_result"
    }
   ],
   "source": [
    "hour = input(\"Enter Hours:\")\n",
    "hour = check_for_float(hour)\n",
    "\n",
    "rate = input(\"Enter rate:\")\n",
    "rate = check_for_float(rate)\n",
    "\n",
    "threshold = input(\"Enter threshold:\")\n",
    "threshold = check_for_float(threshold)\n",
    "\n",
    "gross_pay()"
   ]
  },
  {
   "cell_type": "code",
   "execution_count": 13,
   "id": "c4175348-0a3d-49ae-a6ad-99f5b37f0959",
   "metadata": {},
   "outputs": [
    {
     "data": {
      "text/plain": [
       "'Pay: $ 2850.0'"
      ]
     },
     "execution_count": 13,
     "metadata": {},
     "output_type": "execute_result"
    }
   ],
   "source": [
    "gross_pay()"
   ]
  },
  {
   "cell_type": "code",
   "execution_count": null,
   "id": "c72bc431-e044-46d3-ba5c-ae3ee0418866",
   "metadata": {},
   "outputs": [],
   "source": []
  },
  {
   "cell_type": "markdown",
   "id": "e337dc7e-cd02-41df-9f4f-6f555162591b",
   "metadata": {},
   "source": [
    "# Cold, Warm and Hot "
   ]
  },
  {
   "cell_type": "code",
   "execution_count": 1,
   "id": "3004d9f8-8129-4958-9c56-0320302d0637",
   "metadata": {},
   "outputs": [],
   "source": [
    "def check_temp(temp):\n",
    "    if temp > 28:\n",
    "        return 'Hot'\n",
    "    elif temp >=18 and temp <=28:\n",
    "        return 'Warm'\n",
    "    else:\n",
    "        return 'Cold'"
   ]
  },
  {
   "cell_type": "code",
   "execution_count": 2,
   "id": "8985ba8e-7d35-4686-8258-db5bcfa850d2",
   "metadata": {},
   "outputs": [
    {
     "data": {
      "text/plain": [
       "'Warm'"
      ]
     },
     "execution_count": 2,
     "metadata": {},
     "output_type": "execute_result"
    }
   ],
   "source": [
    "check_temp(18)"
   ]
  },
  {
   "cell_type": "code",
   "execution_count": null,
   "id": "aa7ee3e1-5353-4407-b7a1-5f087cf06a6e",
   "metadata": {},
   "outputs": [],
   "source": []
  },
  {
   "cell_type": "markdown",
   "id": "5860b47c-e0f1-4eb7-a173-778d68d6b0c6",
   "metadata": {},
   "source": [
    "# Maximum of Three Numbers"
   ]
  },
  {
   "cell_type": "code",
   "execution_count": 12,
   "id": "cd35d886-4095-49f8-8998-e4a9a658eaca",
   "metadata": {},
   "outputs": [],
   "source": [
    "def max_of_two(n1,n2):\n",
    "    if n1 > n2:\n",
    "        return n1\n",
    "    return n2\n",
    "    \n",
    "def max_of_three(n1,n2,n3):\n",
    "    max_two = max_of_two(n1,n2)\n",
    "    max_of_three = max_of_two(max_two,n3)\n",
    "    return max_of_three"
   ]
  },
  {
   "cell_type": "code",
   "execution_count": 13,
   "id": "b0e5f655-dab3-483e-a15f-5c89155ea240",
   "metadata": {},
   "outputs": [
    {
     "data": {
      "text/plain": [
       "7"
      ]
     },
     "execution_count": 13,
     "metadata": {},
     "output_type": "execute_result"
    }
   ],
   "source": [
    "max_of_three(5,6,7)"
   ]
  },
  {
   "cell_type": "code",
   "execution_count": null,
   "id": "fc512699-405b-4d4a-b123-71da6c378ff8",
   "metadata": {},
   "outputs": [],
   "source": []
  }
 ],
 "metadata": {
  "kernelspec": {
   "display_name": "Python 3 (ipykernel)",
   "language": "python",
   "name": "python3"
  },
  "language_info": {
   "codemirror_mode": {
    "name": "ipython",
    "version": 3
   },
   "file_extension": ".py",
   "mimetype": "text/x-python",
   "name": "python",
   "nbconvert_exporter": "python",
   "pygments_lexer": "ipython3",
   "version": "3.9.13"
  }
 },
 "nbformat": 4,
 "nbformat_minor": 5
}
