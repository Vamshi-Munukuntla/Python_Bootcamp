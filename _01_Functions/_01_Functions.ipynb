{
 "cells": [
  {
   "cell_type": "code",
   "execution_count": 28,
   "id": "f4f7e586-5350-4fc8-aab1-734be2c3e9cf",
   "metadata": {},
   "outputs": [],
   "source": [
    "def greet():\n",
    "    print('Hello Vamshi!')\n",
    "    print('How are you?')"
   ]
  },
  {
   "cell_type": "code",
   "execution_count": 29,
   "id": "773378c7-696f-4380-ae7f-8e99b3dfb041",
   "metadata": {},
   "outputs": [
    {
     "name": "stdout",
     "output_type": "stream",
     "text": [
      "Hello Vamshi!\n",
      "How are you?\n"
     ]
    }
   ],
   "source": [
    "greet()"
   ]
  },
  {
   "cell_type": "code",
   "execution_count": 31,
   "id": "2379041b-f08e-4898-97ff-f9f866a88934",
   "metadata": {},
   "outputs": [],
   "source": [
    "def greet_with_name(name):\n",
    "    print(f'Hello {name}')\n",
    "    print(f'How are you {name}')"
   ]
  },
  {
   "cell_type": "code",
   "execution_count": 34,
   "id": "ad29dec7-15c5-4a9c-8c8a-adff21072e4f",
   "metadata": {},
   "outputs": [
    {
     "name": "stdout",
     "output_type": "stream",
     "text": [
      "Hello data\n",
      "How are you data\n"
     ]
    }
   ],
   "source": [
    "greet_with_name('data')"
   ]
  },
  {
   "cell_type": "code",
   "execution_count": null,
   "id": "ed936481-991e-4920-aa4a-1a0e5eb92df0",
   "metadata": {},
   "outputs": [],
   "source": []
  },
  {
   "cell_type": "code",
   "execution_count": 35,
   "id": "ecfb7c83-cd4c-4eb4-ab0a-b1b089555a28",
   "metadata": {},
   "outputs": [],
   "source": [
    "def area_of_square(square_side):\n",
    "    Area_of_square = square_side*square_side\n",
    "    print(Area_of_square)"
   ]
  },
  {
   "cell_type": "code",
   "execution_count": 37,
   "id": "d4096f58-d729-4f93-a148-2e80fc25aff7",
   "metadata": {},
   "outputs": [
    {
     "name": "stdout",
     "output_type": "stream",
     "text": [
      "25\n"
     ]
    }
   ],
   "source": [
    "area_of_square(5)"
   ]
  },
  {
   "cell_type": "code",
   "execution_count": 41,
   "id": "4ccfc75c-4116-447d-9c37-da8653244fef",
   "metadata": {},
   "outputs": [],
   "source": [
    "def volume_converter(f_ounce):\n",
    "    milliliters = f_ounce*29.57353\n",
    "    print(milliliters)"
   ]
  },
  {
   "cell_type": "code",
   "execution_count": 42,
   "id": "0a8af343-8c0d-4060-a7e3-860bfd5ab8e7",
   "metadata": {},
   "outputs": [
    {
     "name": "stdout",
     "output_type": "stream",
     "text": [
      "147.86765\n"
     ]
    }
   ],
   "source": [
    "volume_converter(5)"
   ]
  },
  {
   "cell_type": "code",
   "execution_count": null,
   "id": "ac4955ae-4ee4-4446-a193-f8fb04701fb5",
   "metadata": {},
   "outputs": [],
   "source": []
  },
  {
   "cell_type": "code",
   "execution_count": 45,
   "id": "49043933-5ae7-4d01-9626-c9046bb90a88",
   "metadata": {},
   "outputs": [],
   "source": [
    "def greet_with_name_and_city(name,city):\n",
    "    print('Hello')\n",
    "    print(f'How are you {name}?')\n",
    "    print(f'You are going to visit {city} in 2 years.')"
   ]
  },
  {
   "cell_type": "code",
   "execution_count": 51,
   "id": "68c815af-8b1e-4516-b373-ca2b242a3806",
   "metadata": {},
   "outputs": [
    {
     "name": "stdout",
     "output_type": "stream",
     "text": [
      "Hello\n",
      "How are you Vamshi?\n",
      "You are going to visit Japan in 2 years.\n"
     ]
    }
   ],
   "source": [
    "greet_with_name_and_city(city ='Japan',name='Vamshi')"
   ]
  },
  {
   "cell_type": "code",
   "execution_count": null,
   "id": "9ff92c33-a096-4c6f-80b7-68be5139cd18",
   "metadata": {},
   "outputs": [],
   "source": []
  },
  {
   "cell_type": "code",
   "execution_count": 59,
   "id": "0493eaae-b248-4a56-b497-279776e2c09f",
   "metadata": {},
   "outputs": [],
   "source": [
    "def paint_cans(wall_height, wall_width,coverage):\n",
    "    import math\n",
    "    Area_of_wall = wall_height*wall_width\n",
    "    no_of_cans = math.ceil(Area_of_wall/coverage)\n",
    "    return no_of_cans"
   ]
  },
  {
   "cell_type": "code",
   "execution_count": 60,
   "id": "76ac72fa-94b7-4cb8-903a-4331092c7a28",
   "metadata": {},
   "outputs": [
    {
     "data": {
      "text/plain": [
       "10"
      ]
     },
     "execution_count": 60,
     "metadata": {},
     "output_type": "execute_result"
    }
   ],
   "source": [
    "paint_cans(8.5,4.5,4)"
   ]
  },
  {
   "cell_type": "code",
   "execution_count": 64,
   "id": "b2317c26-dfbd-4eb4-b416-2c5a9de80f1f",
   "metadata": {},
   "outputs": [],
   "source": [
    "def fun():\n",
    "    return 1+2"
   ]
  },
  {
   "cell_type": "code",
   "execution_count": 65,
   "id": "34f6f309-0122-4f41-b67a-06793345c260",
   "metadata": {},
   "outputs": [
    {
     "data": {
      "text/plain": [
       "3"
      ]
     },
     "execution_count": 65,
     "metadata": {},
     "output_type": "execute_result"
    }
   ],
   "source": [
    "fun()"
   ]
  },
  {
   "cell_type": "code",
   "execution_count": null,
   "id": "8a11f783-cbe0-407a-97f0-4dd831842df8",
   "metadata": {},
   "outputs": [],
   "source": []
  },
  {
   "cell_type": "code",
   "execution_count": 68,
   "id": "4e694969-7aed-455e-9161-4caee9bdabf3",
   "metadata": {},
   "outputs": [],
   "source": [
    "def format_name(f_name, l_name):\n",
    "    f_name = f_name.title()\n",
    "    l_name = l_name.title()\n",
    "    return f_name,l_name\n",
    "    "
   ]
  },
  {
   "cell_type": "code",
   "execution_count": 70,
   "id": "3eccc7e9-5e96-457f-adf2-6d5c0a7122c1",
   "metadata": {},
   "outputs": [
    {
     "data": {
      "text/plain": [
       "('Vamshi', 'Munukuntla')"
      ]
     },
     "execution_count": 70,
     "metadata": {},
     "output_type": "execute_result"
    }
   ],
   "source": [
    "format_name('vamshi','mUNUkuntla')"
   ]
  },
  {
   "cell_type": "code",
   "execution_count": 73,
   "id": "83f578da-7c59-4ddb-8a40-091d96482a8a",
   "metadata": {},
   "outputs": [],
   "source": [
    "def concatenate(first,last):\n",
    "    return first+last"
   ]
  },
  {
   "cell_type": "code",
   "execution_count": 74,
   "id": "f694d409-30f4-48be-aa25-924e5b3fef1a",
   "metadata": {},
   "outputs": [
    {
     "data": {
      "text/plain": [
       "'facebook'"
      ]
     },
     "execution_count": 74,
     "metadata": {},
     "output_type": "execute_result"
    }
   ],
   "source": [
    "concatenate('face','book')"
   ]
  },
  {
   "cell_type": "code",
   "execution_count": 75,
   "id": "473c237c-f9e1-428e-bf09-1a54383ecaf8",
   "metadata": {},
   "outputs": [
    {
     "data": {
      "text/plain": [
       "'vamshi munukuntla'"
      ]
     },
     "execution_count": 75,
     "metadata": {},
     "output_type": "execute_result"
    }
   ],
   "source": [
    "concatenate('vamshi',' munukuntla')"
   ]
  },
  {
   "cell_type": "code",
   "execution_count": 87,
   "id": "acaa8a65-3abe-451d-bed7-3cae89920a7b",
   "metadata": {},
   "outputs": [],
   "source": [
    "def format_name(f_name, l_name):\n",
    "    if f_name == '' or l_name == '':\n",
    "        return \"Name or SName cannot be empty.\"\n",
    "    f_name = f_name.title()\n",
    "    l_name = l_name.title()\n",
    "    return f_name,l_name"
   ]
  },
  {
   "cell_type": "code",
   "execution_count": 88,
   "id": "936c0bfc-77ee-4884-990c-23ebe2ccdf73",
   "metadata": {},
   "outputs": [
    {
     "name": "stdin",
     "output_type": "stream",
     "text": [
      "Enter Name: \n",
      "Enter SName: \n"
     ]
    },
    {
     "name": "stdout",
     "output_type": "stream",
     "text": [
      "Name or SName cannot be empty.\n"
     ]
    }
   ],
   "source": [
    "first_name= input('Enter Name:')\n",
    "last_name= input('Enter SName:')\n",
    "output = format_name(first_name,last_name)\n",
    "print(output)"
   ]
  },
  {
   "cell_type": "code",
   "execution_count": 91,
   "id": "11029765-86b2-4dca-b16c-16917d1d38a8",
   "metadata": {},
   "outputs": [],
   "source": [
    "def password_controller(password):\n",
    "    if len(password) > 8:\n",
    "        return True\n",
    "    else:\n",
    "        return False"
   ]
  },
  {
   "cell_type": "code",
   "execution_count": 94,
   "id": "d08e051d-69fa-44a3-a92c-9f8128625440",
   "metadata": {},
   "outputs": [
    {
     "data": {
      "text/plain": [
       "True"
      ]
     },
     "execution_count": 94,
     "metadata": {},
     "output_type": "execute_result"
    }
   ],
   "source": [
    "password_controller('salfasdlfjsadlfa')"
   ]
  },
  {
   "cell_type": "code",
   "execution_count": 95,
   "id": "5cd710ad-f512-45ad-b196-c7f5f4a4d78c",
   "metadata": {},
   "outputs": [],
   "source": [
    "def format_name(f_name, l_name):\n",
    "    \"\"\"This function formats first and last name\"\"\"\n",
    "    f_name = f_name.title()\n",
    "    l_name = l_name.title()\n",
    "    return f_name,l_name"
   ]
  },
  {
   "cell_type": "code",
   "execution_count": 96,
   "id": "c9e416ae-4bea-4b1d-a1d2-5487b3f86079",
   "metadata": {},
   "outputs": [
    {
     "data": {
      "text/plain": [
       "('Vamshi', 'M')"
      ]
     },
     "execution_count": 96,
     "metadata": {},
     "output_type": "execute_result"
    }
   ],
   "source": [
    "format_name('vamshi','m')"
   ]
  },
  {
   "cell_type": "code",
   "execution_count": null,
   "id": "039bb828-8c09-4f4a-8705-1de7f2dc6e5d",
   "metadata": {},
   "outputs": [],
   "source": []
  },
  {
   "cell_type": "code",
   "execution_count": 99,
   "id": "baf29fcf-67c6-446d-b07b-b496f13b0ee8",
   "metadata": {},
   "outputs": [],
   "source": [
    "def add(n1,n2):\n",
    "    return n1+n2\n",
    "\n",
    "def subtract(n1,n2):\n",
    "    return n1-n2\n",
    "\n",
    "def multiply(n1,n2):\n",
    "    return n1*n2\n",
    "\n",
    "def divide(n1,n2):\n",
    "    return n1/n2"
   ]
  },
  {
   "cell_type": "code",
   "execution_count": 108,
   "id": "3c19644c-2e67-49b2-abea-538ac505f3ba",
   "metadata": {},
   "outputs": [
    {
     "name": "stdin",
     "output_type": "stream",
     "text": [
      "What is the First number? 5\n",
      "What is the Second number? 4\n",
      "Pick operation from this list (+,-,*,/):  -\n"
     ]
    },
    {
     "name": "stdout",
     "output_type": "stream",
     "text": [
      "1\n"
     ]
    }
   ],
   "source": [
    "n1 = int(input('What is the First number?'))\n",
    "n2 = int(input('What is the Second number?'))\n",
    "operation = input('Pick operation from this list (+,-,*,/): ')\n",
    "\n",
    "if operation == \"+\":\n",
    "    answer = add(n1,n2)\n",
    "elif operation == \"-\":\n",
    "    answer = subtract(n1,n2)\n",
    "elif operation == \"*\":\n",
    "    answer = multiply(n1,n2)\n",
    "else :\n",
    "    answer = divide(n1,n2)\n",
    "    \n",
    "print(answer)"
   ]
  },
  {
   "cell_type": "code",
   "execution_count": 109,
   "id": "81d6538c-516f-4c01-b576-6e7680af0278",
   "metadata": {},
   "outputs": [
    {
     "name": "stdout",
     "output_type": "stream",
     "text": [
      "None\n"
     ]
    }
   ],
   "source": [
    "def my_function(a):\n",
    "    if a < 20:\n",
    "        return\n",
    "        print(\"Bad\")\n",
    "    if a < 80:\n",
    "        return \"Passed\"\n",
    "    else:\n",
    "        return \"Good\"\n",
    "print(my_function(15))"
   ]
  },
  {
   "cell_type": "code",
   "execution_count": null,
   "id": "afe022d9-f9ec-4daa-86ba-c91d84c51614",
   "metadata": {},
   "outputs": [],
   "source": []
  },
  {
   "cell_type": "code",
   "execution_count": null,
   "id": "11d868cf-7cfa-4f73-9d98-95555b077a07",
   "metadata": {},
   "outputs": [],
   "source": []
  },
  {
   "cell_type": "code",
   "execution_count": null,
   "id": "84e02026-2baf-4721-a816-e432f0202ace",
   "metadata": {},
   "outputs": [],
   "source": []
  },
  {
   "cell_type": "code",
   "execution_count": null,
   "id": "b0def5d4-bd54-4596-b479-d942d4b9c3aa",
   "metadata": {},
   "outputs": [],
   "source": []
  },
  {
   "cell_type": "code",
   "execution_count": null,
   "id": "4b440c12-0349-4c98-9508-a23bd1eeaec1",
   "metadata": {},
   "outputs": [],
   "source": []
  },
  {
   "cell_type": "code",
   "execution_count": null,
   "id": "cfb04338-13c2-478d-bf24-2b62a6302a6f",
   "metadata": {},
   "outputs": [],
   "source": []
  },
  {
   "cell_type": "code",
   "execution_count": null,
   "id": "b92d4dd5-f35b-4b35-80de-1660c1b7967d",
   "metadata": {},
   "outputs": [],
   "source": []
  },
  {
   "cell_type": "code",
   "execution_count": null,
   "id": "d3177579-4c0b-46cd-909a-651d71211605",
   "metadata": {},
   "outputs": [],
   "source": []
  },
  {
   "cell_type": "code",
   "execution_count": null,
   "id": "5e871537-a63f-48db-9349-38810f94742a",
   "metadata": {},
   "outputs": [],
   "source": []
  }
 ],
 "metadata": {
  "kernelspec": {
   "display_name": "Python 3 (ipykernel)",
   "language": "python",
   "name": "python3"
  },
  "language_info": {
   "codemirror_mode": {
    "name": "ipython",
    "version": 3
   },
   "file_extension": ".py",
   "mimetype": "text/x-python",
   "name": "python",
   "nbconvert_exporter": "python",
   "pygments_lexer": "ipython3",
   "version": "3.9.13"
  }
 },
 "nbformat": 4,
 "nbformat_minor": 5
}
